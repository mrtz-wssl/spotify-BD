{
 "cells": [
  {
   "attachments": {},
   "cell_type": "markdown",
   "metadata": {},
   "source": [
    "Loading the Model: You'll need to load the pre-trained prediction model. If it's pickled, you can load it using pickle."
   ]
  },
  {
   "cell_type": "code",
   "execution_count": null,
   "metadata": {},
   "outputs": [],
   "source": [
    "import pickle\n",
    "\n",
    "with open('model.pkl', 'rb') as file:\n",
    "    model = pickle.load(file)"
   ]
  },
  {
   "attachments": {},
   "cell_type": "markdown",
   "metadata": {},
   "source": [
    "Creating a Function to Adjust Features: This function will receive a feature value and a percentage change and return the adjusted value."
   ]
  },
  {
   "cell_type": "code",
   "execution_count": null,
   "metadata": {},
   "outputs": [],
   "source": [
    "def adjust_feature(value, percentage):\n",
    "    return value + (value * percentage / 100)"
   ]
  },
  {
   "attachments": {},
   "cell_type": "markdown",
   "metadata": {},
   "source": [
    "Testing Feature Adjustments: For each feature of a song, you'll want to test how increasing and decreasing it affects the model's prediction."
   ]
  },
  {
   "cell_type": "code",
   "execution_count": null,
   "metadata": {},
   "outputs": [],
   "source": [
    "def test_adjustments(song_features, percentage_range):\n",
    "    optimal_changes = {}\n",
    "    for feature, value in song_features.items():\n",
    "        max_prob = model.predict_proba([song_features])[0][1]  # probability of being a hit\n",
    "        optimal_change = 0  # no change\n",
    "\n",
    "        for percentage in percentage_range:\n",
    "            # Increase feature\n",
    "            adjusted_features = song_features.copy()\n",
    "            adjusted_features[feature] = adjust_feature(value, percentage)\n",
    "            prob = model.predict_proba([adjusted_features])[0][1]\n",
    "            if prob > max_prob:\n",
    "                max_prob = prob\n",
    "                optimal_change = percentage\n",
    "\n",
    "            # Decrease feature\n",
    "            adjusted_features = song_features.copy()\n",
    "            adjusted_features[feature] = adjust_feature(value, -percentage)\n",
    "            prob = model.predict_proba([adjusted_features])[0][1]\n",
    "            if prob > max_prob:\n",
    "                max_prob = prob\n",
    "                optimal_change = -percentage\n",
    "\n",
    "        optimal_changes[feature] = optimal_change\n",
    "\n",
    "    return optimal_changes\n"
   ]
  },
  {
   "attachments": {},
   "cell_type": "markdown",
   "metadata": {},
   "source": [
    "Note: The percentage_range parameter in this function could be something like range(-50, 51, 5), which would test each feature by decreasing and increasing it by 5% increments, up to 50%."
   ]
  },
  {
   "attachments": {},
   "cell_type": "markdown",
   "metadata": {},
   "source": [
    "Providing Recommendations: Use the test_adjustments function to provide recommendations on how to improve a song."
   ]
  },
  {
   "cell_type": "code",
   "execution_count": null,
   "metadata": {},
   "outputs": [],
   "source": [
    "song_features = {'acousticness': 0.5, 'danceability': 0.7, 'energy': 0.6, ...}  # example song features\n",
    "\n",
    "recommendations = test_adjustments(song_features, range(-50, 51, 5))\n",
    "\n",
    "for feature, change in recommendations.items():\n",
    "    if change > 0:\n",
    "        print(f\"Increase {feature} by {change}% for a higher probability of being a hit.\")\n",
    "    elif change < 0:\n",
    "        print(f\"Decrease {feature} by {-change}% for a higher probability of being a hit.\")\n",
    "    else:\n",
    "        print(f\"{feature} is optimal as it is.\")\n"
   ]
  },
  {
   "attachments": {},
   "cell_type": "markdown",
   "metadata": {},
   "source": [
    "This will provide specific, actionable recommendations on how to adjust each song feature for a higher probability of being a hit, according to your prediction model. However, keep in mind that the model's performance and recommendations will only be as good as the data it was trained on. Always use a variety of data sources and constantly update your model for the best results."
   ]
  }
 ],
 "metadata": {
  "language_info": {
   "name": "python"
  },
  "orig_nbformat": 4
 },
 "nbformat": 4,
 "nbformat_minor": 2
}
