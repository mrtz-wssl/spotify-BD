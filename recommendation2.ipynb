{
 "cells": [
  {
   "cell_type": "code",
   "execution_count": 83,
   "metadata": {},
   "outputs": [],
   "source": [
    "import pandas as pd\n",
    "import numpy as np\n",
    "import matplotlib.pyplot as plt\n",
    "import seaborn as sns\n",
    "import xgboost as xgb  \n",
    "from sklearn.ensemble import RandomForestClassifier\n",
    "from sklearn.model_selection import train_test_split\n",
    "from sklearn.metrics import mean_squared_error, mean_absolute_percentage_error\n",
    "from sklearn.preprocessing import StandardScaler\n",
    "from sklearn.metrics.pairwise import sigmoid_kernel\n",
    "from sklearn.metrics.pairwise import cosine_similarity\n",
    "from sklearn import preprocessing"
   ]
  },
  {
   "cell_type": "code",
   "execution_count": 93,
   "metadata": {},
   "outputs": [],
   "source": [
    "data = pd.read_csv('spotify_songs.csv')\n",
    "df = pd.read_csv('Spotify Data/data-clean.csv')"
   ]
  },
  {
   "cell_type": "code",
   "execution_count": null,
   "metadata": {},
   "outputs": [],
   "source": []
  },
  {
   "cell_type": "code",
   "execution_count": 86,
   "metadata": {},
   "outputs": [
    {
     "name": "stdout",
     "output_type": "stream",
     "text": [
      "<class 'pandas.core.frame.DataFrame'>\n",
      "RangeIndex: 40560 entries, 0 to 40559\n",
      "Data columns (total 25 columns):\n",
      " #   Column             Non-Null Count  Dtype  \n",
      "---  ------             --------------  -----  \n",
      " 0   track_id           40560 non-null  object \n",
      " 1   time_signature     40560 non-null  float64\n",
      " 2   chorus_hit         40560 non-null  float64\n",
      " 3   sections           40560 non-null  float64\n",
      " 4   target             40560 non-null  float64\n",
      " 5   popularity         312 non-null    float64\n",
      " 6   sm_target          40560 non-null  float64\n",
      " 7   tiktok             40560 non-null  int64  \n",
      " 8   spotify            40560 non-null  int64  \n",
      " 9   track              40560 non-null  object \n",
      " 10  artist             40560 non-null  object \n",
      " 11  duration_ms        40560 non-null  float64\n",
      " 12  danceability       40560 non-null  float64\n",
      " 13  energy             40560 non-null  float64\n",
      " 14  key                40560 non-null  object \n",
      " 15  loudness           40560 non-null  float64\n",
      " 16  mode               40560 non-null  object \n",
      " 17  speechiness        40560 non-null  float64\n",
      " 18  acousticness       40560 non-null  float64\n",
      " 19  instrumentalness   40560 non-null  float64\n",
      " 20  liveness           40560 non-null  float64\n",
      " 21  valence            40560 non-null  float64\n",
      " 22  tempo              40560 non-null  float64\n",
      " 23  era                40560 non-null  object \n",
      " 24  main_parent_genre  40560 non-null  object \n",
      "dtypes: float64(16), int64(2), object(7)\n",
      "memory usage: 7.7+ MB\n"
     ]
    }
   ],
   "source": [
    "data.info()"
   ]
  },
  {
   "cell_type": "code",
   "execution_count": 87,
   "metadata": {},
   "outputs": [
    {
     "name": "stdout",
     "output_type": "stream",
     "text": [
      "<class 'pandas.core.frame.DataFrame'>\n",
      "RangeIndex: 40560 entries, 0 to 40559\n",
      "Data columns (total 16 columns):\n",
      " #   Column            Non-Null Count  Dtype  \n",
      "---  ------            --------------  -----  \n",
      " 0   track_id          40560 non-null  object \n",
      " 1   time_signature    40560 non-null  float64\n",
      " 2   target            40560 non-null  float64\n",
      " 3   artist            40560 non-null  object \n",
      " 4   duration_ms       40560 non-null  float64\n",
      " 5   danceability      40560 non-null  float64\n",
      " 6   energy            40560 non-null  float64\n",
      " 7   key               40560 non-null  object \n",
      " 8   loudness          40560 non-null  float64\n",
      " 9   mode              40560 non-null  object \n",
      " 10  speechiness       40560 non-null  float64\n",
      " 11  acousticness      40560 non-null  float64\n",
      " 12  instrumentalness  40560 non-null  float64\n",
      " 13  liveness          40560 non-null  float64\n",
      " 14  valence           40560 non-null  float64\n",
      " 15  tempo             40560 non-null  float64\n",
      "dtypes: float64(12), object(4)\n",
      "memory usage: 5.0+ MB\n"
     ]
    }
   ],
   "source": [
    "data = data.drop([\"popularity\", \"era\",\"main_parent_genre\", \"sections\", \"chorus_hit\" ], axis=1)\n",
    "data = data.drop(['tiktok', \"sm_target\", 'spotify', \"track\"], axis=1)\n",
    "data.info()"
   ]
  },
  {
   "cell_type": "code",
   "execution_count": 88,
   "metadata": {},
   "outputs": [],
   "source": [
    "data = pd.get_dummies(data)"
   ]
  },
  {
   "cell_type": "code",
   "execution_count": 89,
   "metadata": {},
   "outputs": [
    {
     "name": "stdout",
     "output_type": "stream",
     "text": [
      "[[0.49196787 0.42206478 0.03811378 0.6199046  0.         0.0658215\n",
      "  0.78355379 0.04197917 0.76900295 0.6        0.84839357]\n",
      " [0.01807229 0.50404858 0.04775985 0.50487572 0.107      0.1653144\n",
      "  0.69396381 0.03510417 0.42167068 0.8        0.8002008 ]]\n"
     ]
    }
   ],
   "source": [
    "feature_cols=['acousticness', 'danceability', 'duration_ms', 'energy',\n",
    "              'instrumentalness', 'liveness', 'loudness', \n",
    "              'speechiness', 'tempo', 'time_signature', 'valence',]\n",
    "\n",
    "from sklearn.preprocessing import MinMaxScaler\n",
    "scaler = MinMaxScaler()\n",
    "normalized_df =scaler.fit_transform(data[feature_cols])\n",
    "\n",
    "print(normalized_df[:2])"
   ]
  },
  {
   "cell_type": "code",
   "execution_count": 100,
   "metadata": {},
   "outputs": [],
   "source": [
    "indices = pd.Series(data.index, index=data['track_id']).drop_duplicates()\n",
    "# Create cosine similarity matrix based on given matrix\n",
    "cosine = cosine_similarity(normalized_df)\n",
    "def generate_recommendation(track_id, model_type=cosine):\n",
    "    \"\"\"\n",
    "    Purpose: Function for song recommendations \n",
    "    Inputs: track_id and type of similarity model\n",
    "    Output: Pandas series of recommended songs\n",
    "    \"\"\"\n",
    "    # Get song indices\n",
    "    index = indices[track_id]\n",
    "    # Get list of songs for given track_id\n",
    "    score = list(enumerate(model_type[index]))\n",
    "    # Sort the most similar songs\n",
    "    similarity_score = sorted(score, key=lambda x: x[1], reverse=True)\n",
    "    # Select the top-10 recommended songs\n",
    "    similarity_score = similarity_score[1:11]\n",
    "    top_songs_index = [i[0] for i in similarity_score]\n",
    "    # Top 10 recommended songs\n",
    "    top_songs = data['track_id'].iloc[top_songs_index]\n",
    "    return top_songs\n"
   ]
  },
  {
   "cell_type": "code",
   "execution_count": 98,
   "metadata": {},
   "outputs": [
    {
     "name": "stdout",
     "output_type": "stream",
     "text": [
      "Index(['1dtKN6wwlolkM8XZy2y9C1', '5hjsmSnUefdUqzsDogisiX',\n",
      "       '6uk8tI6pwxxdVTNlNOJeJh', '7aNjMJ05FvUXACPWZ7yJmv',\n",
      "       '1rQ0clvgkzWr001POOPJWx', '32VBSoD2vcoIOiPEvAfFXU',\n",
      "       '62eoocmGk59EMfuRcLBvUL', '0ecGwZA1ReAq4Mn3ZInaT4',\n",
      "       '15gNqKkZN9Mq9AvnRqWJKb', '1hcMfYTsRTC4hIKbfosxjz',\n",
      "       ...\n",
      "       '4Ro98RCK90oHqqSZUnTFq5', '0aUWfpD3PlSv3FTTKcT2rN',\n",
      "       '3bnVBN67NBEzedqQuWrpP4', '2QjOHCTQ1Jl3zawyYOpxh6',\n",
      "       '4MofYf0f4ijlVV6elUW5S3', '4t1TljQWJ6ZuoSY67zVvBI',\n",
      "       '2MShy1GSSgbmGUxADNIao5', '55qBw1900pZKfXJ6Q9A2Lc',\n",
      "       '4o9npmYHrOF1rUxxTVH8h4', '2khIaVUkbMmDHB596lyMG3'],\n",
      "      dtype='object', name='track_id', length=40560)\n"
     ]
    }
   ],
   "source": [
    "print(indices.keys())"
   ]
  },
  {
   "cell_type": "code",
   "execution_count": null,
   "metadata": {},
   "outputs": [],
   "source": []
  },
  {
   "cell_type": "code",
   "execution_count": 101,
   "metadata": {},
   "outputs": [
    {
     "name": "stdout",
     "output_type": "stream",
     "text": [
      "Recommended Songs:\n",
      "['1A4eGVWeU3TUd1MxNdxU65' '5Abd8qlHxfliMmkggUCiSY'\n",
      " '41TqRBgF4Ahyr4vGmZVk8b' '2KSwmLHkgjZCE49YFkgspo'\n",
      " '4ozKDDSnHMv3HRoPwUQ01x' '55mQhobuwtY7lfLAXylg1k'\n",
      " '7KmHVdey9cB6ITm229T6Jw' '18bH4uo8CFY2yVwHbjal6l'\n",
      " '2jONAYO6JniitrbnLEoCwX' '6RueOnbP7XQyZaru8NBCdi']\n"
     ]
    }
   ],
   "source": [
    "print(\"Recommended Songs:\")\n",
    "print(generate_recommendation('5hjsmSnUefdUqzsDogisiX',cosine).values)"
   ]
  },
  {
   "cell_type": "code",
   "execution_count": 102,
   "metadata": {},
   "outputs": [],
   "source": [
    "# Create sigmoid kernel matrix based on given matrix\n",
    "sig_kernel = sigmoid_kernel(normalized_df)\n",
    "\n",
    "print(\"Recommended Songs:\")\n",
    "print(generate_recommendation('Parallel Lines',sig_kernel).values)"
   ]
  }
 ],
 "metadata": {
  "kernelspec": {
   "display_name": "base",
   "language": "python",
   "name": "python3"
  },
  "language_info": {
   "codemirror_mode": {
    "name": "ipython",
    "version": 3
   },
   "file_extension": ".py",
   "mimetype": "text/x-python",
   "name": "python",
   "nbconvert_exporter": "python",
   "pygments_lexer": "ipython3",
   "version": "3.9.13"
  },
  "orig_nbformat": 4
 },
 "nbformat": 4,
 "nbformat_minor": 2
}
