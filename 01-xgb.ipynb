{
 "cells": [
  {
   "cell_type": "code",
   "execution_count": 163,
   "metadata": {},
   "outputs": [],
   "source": [
    "#%pylab inline\n",
    "\n",
    "# sets backend to render higher res images\n",
    "#%matplotlib InlineBackend.figure_formats = ['retina']\n",
    "\n",
    "import pandas as pd\n",
    "import seaborn as sns\n",
    "from sklearn.metrics import accuracy_score\n",
    "import xgboost as xgb\n",
    "\n",
    "sns.set_style(\"whitegrid\")"
   ]
  },
  {
   "cell_type": "code",
   "execution_count": 164,
   "metadata": {},
   "outputs": [],
   "source": [
    "from importlib import reload\n",
    "import pandas as pd\n",
    "import numpy as np\n",
    "import scipy.stats as st\n",
    "import matplotlib.pyplot as plt\n",
    "import seaborn as sns\n",
    "from collections import OrderedDict\n",
    "from sklearn.linear_model import LogisticRegression\n",
    "from sklearn.model_selection import train_test_split\n",
    "from sklearn.metrics import f1_score\n",
    "from sklearn.metrics import roc_auc_score, confusion_matrix, roc_curve, accuracy_score\n",
    "\n",
    "# %config InlineBackend.figure_formats = ['svg']\n",
    "# %matplotlib inline\n",
    "\n",
    "plt.rcParams['figure.figsize'] = (9, 6)\n",
    "sns.set(context='notebook', style='whitegrid', font_scale=1.2)\n",
    "import matplotlib.cm as cm\n",
    "import random\n",
    "\n",
    "from sklearn.tree import DecisionTreeClassifier\n",
    "from sklearn.svm import LinearSVC\n",
    "from sklearn.svm import SVC\n",
    "from sklearn.ensemble import RandomForestClassifier, GradientBoostingClassifier\n",
    "from sqlalchemy import create_engine\n",
    "import pandas as pd\n",
    "from sklearn.model_selection import train_test_split"
   ]
  },
  {
   "cell_type": "code",
   "execution_count": 165,
   "metadata": {},
   "outputs": [
    {
     "data": {
      "text/html": [
       "<div>\n",
       "<style scoped>\n",
       "    .dataframe tbody tr th:only-of-type {\n",
       "        vertical-align: middle;\n",
       "    }\n",
       "\n",
       "    .dataframe tbody tr th {\n",
       "        vertical-align: top;\n",
       "    }\n",
       "\n",
       "    .dataframe thead th {\n",
       "        text-align: right;\n",
       "    }\n",
       "</style>\n",
       "<table border=\"1\" class=\"dataframe\">\n",
       "  <thead>\n",
       "    <tr style=\"text-align: right;\">\n",
       "      <th></th>\n",
       "      <th>time_signature</th>\n",
       "      <th>chorus_hit</th>\n",
       "      <th>sections</th>\n",
       "      <th>target</th>\n",
       "      <th>popularity</th>\n",
       "      <th>sm_target</th>\n",
       "      <th>tiktok</th>\n",
       "      <th>spotify</th>\n",
       "      <th>duration_ms</th>\n",
       "      <th>danceability</th>\n",
       "      <th>...</th>\n",
       "      <th>loudness</th>\n",
       "      <th>mode</th>\n",
       "      <th>speechiness</th>\n",
       "      <th>acousticness</th>\n",
       "      <th>instrumentalness</th>\n",
       "      <th>liveness</th>\n",
       "      <th>valence</th>\n",
       "      <th>tempo</th>\n",
       "      <th>era</th>\n",
       "      <th>main_parent_genre</th>\n",
       "    </tr>\n",
       "  </thead>\n",
       "  <tbody>\n",
       "    <tr>\n",
       "      <th>0</th>\n",
       "      <td>3.0</td>\n",
       "      <td>32.94975</td>\n",
       "      <td>9.0</td>\n",
       "      <td>1.0</td>\n",
       "      <td>NaN</td>\n",
       "      <td>0.0</td>\n",
       "      <td>0</td>\n",
       "      <td>1</td>\n",
       "      <td>173533.0</td>\n",
       "      <td>0.417</td>\n",
       "      <td>...</td>\n",
       "      <td>-7.727</td>\n",
       "      <td>major</td>\n",
       "      <td>0.0403</td>\n",
       "      <td>0.490</td>\n",
       "      <td>0.000</td>\n",
       "      <td>0.0779</td>\n",
       "      <td>0.845</td>\n",
       "      <td>185.655</td>\n",
       "      <td>60s</td>\n",
       "      <td>Blues and Jazz</td>\n",
       "    </tr>\n",
       "    <tr>\n",
       "      <th>1</th>\n",
       "      <td>4.0</td>\n",
       "      <td>48.82510</td>\n",
       "      <td>10.0</td>\n",
       "      <td>0.0</td>\n",
       "      <td>NaN</td>\n",
       "      <td>0.0</td>\n",
       "      <td>0</td>\n",
       "      <td>1</td>\n",
       "      <td>213613.0</td>\n",
       "      <td>0.498</td>\n",
       "      <td>...</td>\n",
       "      <td>-12.475</td>\n",
       "      <td>major</td>\n",
       "      <td>0.0337</td>\n",
       "      <td>0.018</td>\n",
       "      <td>0.107</td>\n",
       "      <td>0.1760</td>\n",
       "      <td>0.797</td>\n",
       "      <td>101.801</td>\n",
       "      <td>60s</td>\n",
       "      <td>Rock</td>\n",
       "    </tr>\n",
       "  </tbody>\n",
       "</table>\n",
       "<p>2 rows × 22 columns</p>\n",
       "</div>"
      ],
      "text/plain": [
       "   time_signature  chorus_hit  sections  target  popularity  sm_target  \\\n",
       "0             3.0    32.94975       9.0     1.0         NaN        0.0   \n",
       "1             4.0    48.82510      10.0     0.0         NaN        0.0   \n",
       "\n",
       "   tiktok  spotify  duration_ms  danceability  ...  loudness   mode  \\\n",
       "0       0        1     173533.0         0.417  ...    -7.727  major   \n",
       "1       0        1     213613.0         0.498  ...   -12.475  major   \n",
       "\n",
       "   speechiness acousticness  instrumentalness  liveness  valence    tempo  \\\n",
       "0       0.0403        0.490             0.000    0.0779    0.845  185.655   \n",
       "1       0.0337        0.018             0.107    0.1760    0.797  101.801   \n",
       "\n",
       "   era  main_parent_genre  \n",
       "0  60s     Blues and Jazz  \n",
       "1  60s               Rock  \n",
       "\n",
       "[2 rows x 22 columns]"
      ]
     },
     "execution_count": 165,
     "metadata": {},
     "output_type": "execute_result"
    }
   ],
   "source": [
    "df = pd.read_csv('Spotify Data/data-clean.csv')\n",
    "\n",
    "#drop track, artist, track_id \n",
    "df = df.drop(['track', 'artist', 'track_id'], axis=1)\n",
    "\n",
    "df.head(2)"
   ]
  },
  {
   "cell_type": "code",
   "execution_count": 166,
   "metadata": {},
   "outputs": [
    {
     "data": {
      "text/plain": [
       "(40560, 23)"
      ]
     },
     "execution_count": 166,
     "metadata": {},
     "output_type": "execute_result"
    }
   ],
   "source": [
    "df.columns = map(str.lower, df.columns)\n",
    "df['track_seconds'] = df['duration_ms'] / 1000\n",
    "df.columns\n",
    "df.shape"
   ]
  },
  {
   "cell_type": "code",
   "execution_count": 167,
   "metadata": {},
   "outputs": [],
   "source": [
    "from sklearn.ensemble import RandomForestClassifier\n",
    "from sklearn.model_selection import cross_val_score\n",
    "from sklearn.model_selection import cross_val_predict\n",
    "from sklearn.model_selection import RandomizedSearchCV\n",
    "from scipy.stats import randint\n",
    "from sklearn import model_selection\n",
    "from sklearn.model_selection import KFold\n",
    "from sklearn import metrics\n",
    "from sklearn.model_selection import learning_curve\n"
   ]
  },
  {
   "cell_type": "code",
   "execution_count": 168,
   "metadata": {},
   "outputs": [],
   "source": [
    "# Helper function for printing confusion matrices (see: https://gist.github.com/shaypal5/94c53d765083101efc0240d776a23823)\n",
    "def print_confusion_matrix(confusion_matrix, class_names, figsize = (7,5), fontsize=10):\n",
    "    \"\"\"Prints a confusion matrix, as returned by sklearn.metrics.confusion_matrix, as a heatmap.\n",
    "    \n",
    "    Arguments\n",
    "    ---------\n",
    "    confusion_matrix: numpy.ndarray\n",
    "        The numpy.ndarray object returned from a call to sklearn.metrics.confusion_matrix. \n",
    "        Similarly constructed ndarrays can also be used.\n",
    "    class_names: list\n",
    "        An ordered list of class names, in the order they index the given confusion matrix.\n",
    "    figsize: tuple\n",
    "        A 2-long tuple, the first value determining the horizontal size of the ouputted figure,\n",
    "        the second determining the vertical size. Defaults to (10,7).\n",
    "    fontsize: int\n",
    "        Font size for axes labels. Defaults to 14.\n",
    "        \n",
    "    Returns\n",
    "    -------\n",
    "    matplotlib.figure.Figure\n",
    "        The resulting confusion matrix figure\n",
    "    \"\"\"\n",
    "    df_cm = pd.DataFrame(\n",
    "        confusion_matrix, index=class_names, columns=class_names, \n",
    "    )\n",
    "    fig = plt.figure(figsize=(7,5))\n",
    "    try:\n",
    "        heatmap = sns.heatmap(df_cm, annot=True, fmt=\"d\", cmap=\"mako\") #mako\n",
    "    except ValueError:\n",
    "        raise ValueError(\"Confusion matrix values must be integers.\")\n",
    "    heatmap.yaxis.set_ticklabels(heatmap.yaxis.get_ticklabels(), rotation=0, ha='right', fontsize=14)\n",
    "    heatmap.xaxis.set_ticklabels(heatmap.xaxis.get_ticklabels(), rotation=0, ha='right', fontsize=14)\n",
    "    plt.ylabel('True label',fontsize=14)\n",
    "    plt.xlabel('Predicted label',fontsize=14)\n",
    "    plt.gcf().subplots_adjust(bottom=0.15)\n",
    "    plt.tight_layout()\n",
    "    plt.savefig(\"xg_confmatrix.png\")\n",
    "    plt.show()\n",
    "    return fig\n"
   ]
  },
  {
   "cell_type": "code",
   "execution_count": 169,
   "metadata": {},
   "outputs": [
    {
     "name": "stdout",
     "output_type": "stream",
     "text": [
      "<class 'pandas.core.frame.DataFrame'>\n",
      "RangeIndex: 40560 entries, 0 to 40559\n",
      "Data columns (total 13 columns):\n",
      " #   Column            Non-Null Count  Dtype  \n",
      "---  ------            --------------  -----  \n",
      " 0   time_signature    40560 non-null  float64\n",
      " 1   chorus_hit        40560 non-null  float64\n",
      " 2   sections          40560 non-null  float64\n",
      " 3   danceability      40560 non-null  float64\n",
      " 4   energy            40560 non-null  float64\n",
      " 5   loudness          40560 non-null  float64\n",
      " 6   speechiness       40560 non-null  float64\n",
      " 7   acousticness      40560 non-null  float64\n",
      " 8   instrumentalness  40560 non-null  float64\n",
      " 9   liveness          40560 non-null  float64\n",
      " 10  valence           40560 non-null  float64\n",
      " 11  tempo             40560 non-null  float64\n",
      " 12  track_seconds     40560 non-null  float64\n",
      "dtypes: float64(13)\n",
      "memory usage: 4.0 MB\n",
      "None\n",
      "(40560, 13)\n"
     ]
    }
   ],
   "source": [
    "# Establishing X and y\n",
    "# df = df.drop(columns = ['duration_ms', 'mode', 'key', 'era', 'main_parent_genre', 'sm_target', 'tiktok','spotify'  ])\n",
    "\n",
    "\n",
    "# y = df['target']\n",
    "# X = df.drop(columns = ['target'])\n",
    "\n",
    "# # Train test split\n",
    "# X_train, X_test, y_train, y_test = train_test_split(X, y, test_size = 0.2, random_state = 42, stratify = y)\n",
    "\n",
    "# X2_train, X2_test,  y2_train,y2_test = train_test_split(X_train,y_train, test_size = 0.25, random_state = 42)\n",
    "\n",
    "# #historgram of values of y and show it\n",
    "# X.shape\n",
    "from sklearn.impute import SimpleImputer\n",
    "\n",
    "df = df.drop(columns=['duration_ms', 'mode', 'key', 'era', 'main_parent_genre', 'sm_target', 'tiktok', 'spotify', 'popularity'])\n",
    "\n",
    "y = df['target']\n",
    "X = df.drop(columns=['target'])\n",
    "\n",
    "print(X.info())\n",
    "\n",
    "# Handling missing values\n",
    "imputer = SimpleImputer(strategy='mean')  # Replace missing values with the mean\n",
    "X = imputer.fit_transform(X)\n",
    "\n",
    "# Train test split\n",
    "X_train, X_test, y_train, y_test = train_test_split(X, y, test_size=0.2, random_state=42, stratify=y)\n",
    "\n",
    "X2_train, X2_test, y2_train, y2_test = train_test_split(X_train, y_train, test_size=0.25, random_state=42)\n",
    "\n",
    "# Print the shape of X to verify the fix\n",
    "print(X.shape)\n",
    "\n",
    "#print list of features of X_test\n"
   ]
  },
  {
   "cell_type": "code",
   "execution_count": 170,
   "metadata": {},
   "outputs": [],
   "source": [
    "import pandas as pd\n",
    "import numpy as np\n",
    "import matplotlib\n",
    "#matplotlib.use('Agg')\n",
    "import pylab\n",
    "from sklearn import svm\n",
    "from sklearn.tree import DecisionTreeClassifier\n",
    "from sklearn.ensemble import RandomForestClassifier, GradientBoostingClassifier\n",
    "from sklearn.model_selection import train_test_split, cross_val_score, GridSearchCV\n",
    "from sklearn.metrics import roc_curve, auc, confusion_matrix, classification_report, precision_score, recall_score, f1_score, accuracy_score\n",
    "import itertools"
   ]
  },
  {
   "cell_type": "code",
   "execution_count": 171,
   "metadata": {},
   "outputs": [],
   "source": [
    "# #Function used to plot the learning curve, roc curve, and confusing matrix for the given model\n",
    "# import matplotlib.pyplot as plt\n",
    "\n",
    "# def plot_model(model, X, y , X2, y2,threshold=0.5):\n",
    "#     model.fit(X, y)\n",
    "#     y_predict = model.predict(X)\n",
    "#     #y_predictprob = model.predict_proba(X)[:, 1]\n",
    "    \n",
    "#     y_predictprob = (model.predict_proba(X)[:, 1] >=threshold).astype('int')\n",
    "\n",
    "#     LR_acc = np.round(np.mean(cross_val_score(model, X, y, scoring = 'accuracy', cv = 5)), 5)\n",
    "#     LR_f1 = np.round(np.mean(cross_val_score(model, X, y, scoring = 'f1', cv = 5)), 5)\n",
    "#     LR_prec = np.round(np.mean(cross_val_score(model, X, y, scoring = 'precision', cv = 5)), 5)\n",
    "#     LR_recall = np.round(np.mean(cross_val_score(model, X, y, scoring = 'recall', cv = 5)), 5)\n",
    "#     print(f'The base LR accuracy is: {LR_acc}')\n",
    "#     print(f'The base LR f1 is: {LR_f1}')\n",
    "#     print(f'The base LR precision is: {LR_prec}')\n",
    "#     print(f'The base LR recall is: {LR_recall}')\n",
    "\n",
    "#     #print(\"train : all metrics:\", metrics.classification_report(y,y_predictprob))\n",
    "\n",
    "#     print(\"Precision: {:6.4f},   Recall: {:6.4f}, Accuracy: {:6.4f}\".format(precision_score(y, y_predictprob),\n",
    "#                                                         recall_score(y, y_predictprob) ,\n",
    "#                                                         accuracy_score(y,y_predictprob)))\n",
    "    \n",
    "    \n",
    "#     m, train_err, test_err = learning_curve(model, X, y, cv = 5, scoring = 'f1', random_state = 42)\n",
    "#     m_trainerr = np.mean(train_err, axis = 1)\n",
    "#     m_testerr = np.mean(test_err, axis = 1)\n",
    "\n",
    "#     print(\"train error\", m_trainerr.mean(), \"test error\", m_testerr.mean())\n",
    "#     print(\"y pred proba \",y_predictprob)\n",
    "    \n",
    "    \n",
    "#     # try\n",
    "    \n",
    "#     ns2_probs = [0 for _ in range(len(y2))]\n",
    "#     y2_predict = model.predict(X2)\n",
    "#     y2_predictprobs = model.predict_proba(X2)[:, 1]\n",
    "#     y2_predictprob = (model.predict_proba(X2)[:, 1]>=threshold).astype('int')\n",
    "    \n",
    "#     #print(\"test : all metrics: \", metrics.classification_report(y2,y2_predictprob))    \n",
    "#     print(\"Precision: {:6.4f},   Recall: {:6.4f}, Accuracy: {:6.4f}, f1: {:6.4f}\".format(precision_score(y2, y2_predictprob),\n",
    "#                                                         recall_score(y2, y2_predictprob) ,\n",
    "#                                                         accuracy_score(y2,y2_predictprob),\n",
    "#                                                         f1_score(y2,y2_predictprob)))\n",
    "    \n",
    "    \n",
    "#     '''\n",
    "#     connect predictions with outputs for sample probablity\n",
    "#     '''\n",
    "#     global y_pred_prob_df \n",
    "#     global y_pred_df\n",
    "#     y3_predictprob = (model.predict_proba(X2)[:, 1]) \n",
    "    \n",
    "# #     print(\"X inputs: \", X2[:10], type(X2))\n",
    "# #     print(\"y predicted prob: \", y3_predictprob[:10], type(y3_predictprob))\n",
    "# #     print(\"y predicted outcomes: \", y2_predictprob[:10], type(y2_predictprob))\n",
    "# #     print(\"y actuals: \",y2[:10] , type(y2))\n",
    "    \n",
    "#     y_pred_prob_df = pd.DataFrame(y3_predictprob,columns=['y_pred_prob'])\n",
    "#     y_pred_df = pd.DataFrame(y2_predictprob,columns=['y_pred'])    \n",
    "    \n",
    "#     '''\n",
    "#     change array and series to df\n",
    "#     '''\n",
    "    \n",
    "#     fpr, tpr, thr = roc_curve(y2, y2_predictprobs)\n",
    "    \n",
    "#     ns2_auc = roc_auc_score(y2, ns2_probs)\n",
    "#     ns2_fpr, ns2_tpr, _ = roc_curve(y2, ns2_probs)\n",
    "\n",
    "# #     optimal_idx = np.argmax(tpr - fpr)\n",
    "# #     optimal_threshold = thresholds[optimal_idx]\n",
    "# #     print(\"optimal idx\", optimal_idx, \"optimal threshold\", optimal_threshold)\n",
    "    \n",
    "#     plt.rcParams.update({'figure.figsize': (7, 5)})\n",
    "# #     plt.subplot(1,2,1)\n",
    "# #     plt.plot(m, m_trainerr, 'k', m, m_testerr, 'r')\n",
    "# #     plt.xlabel('Number of Samples', fontsize = 10)\n",
    "# #     plt.ylabel('F1', fontsize = 10)\n",
    "# #     plt.legend(['Training Error', 'Test Error'])\n",
    "#     #plt.subplot(1,2,2)\n",
    "    \n",
    "#     plt.plot(fpr, tpr)\n",
    "#     plt.xlabel('1 - Specificity (FPR)')\n",
    "#     plt.ylabel('Sensitivity (TPR)');\n",
    "#     plt.title(f\"Area Under the ROC Curve: {np.round(roc_auc_score(y2, y2_predictprobs), 4)}\");\n",
    "\n",
    "#     print(f'AUC: {np.round(roc_auc_score(y2, y2_predictprobs), 4)}')\n",
    "\n",
    "\n",
    "#     pyplot.plot(ns2_fpr, ns2_tpr, linestyle='--', label='No Skill')\n",
    "#     plt.tight_layout()\n",
    "#     plt.savefig(\"xg_aucroc.pdf\")\n",
    "    \n",
    "    \n",
    "#     conf_mat = confusion_matrix(y2, y2_predictprob)\n",
    "#     cm = print_confusion_matrix(conf_mat, ['not a hit', 'is a hit'])\n",
    "    \n",
    "#     return y_pred_prob_df, y_pred_df\n",
    "\n",
    "def plot_model(model, X, y, X2, y2, threshold=0.5):\n",
    "    model.fit(X, y)\n",
    "    y_predict = model.predict(X)\n",
    "    \n",
    "    y_predictprob = (model.predict_proba(X)[:, 1] >= threshold).astype('int')\n",
    "\n",
    "    LR_acc = np.round(np.mean(cross_val_score(model, X, y, scoring='accuracy', cv=5)), 5)\n",
    "    LR_f1 = np.round(np.mean(cross_val_score(model, X, y, scoring='f1', cv=5)), 5)\n",
    "    LR_prec = np.round(np.mean(cross_val_score(model, X, y, scoring='precision', cv=5)), 5)\n",
    "    LR_recall = np.round(np.mean(cross_val_score(model, X, y, scoring='recall', cv=5)), 5)\n",
    "    print(f'The base LR accuracy is: {LR_acc}')\n",
    "    print(f'The base LR f1 is: {LR_f1}')\n",
    "    print(f'The base LR precision is: {LR_prec}')\n",
    "    print(f'The base LR recall is: {LR_recall}')\n",
    "\n",
    "    print(\"Precision: {:6.4f}, Recall: {:6.4f}, Accuracy: {:6.4f}\".format(\n",
    "        precision_score(y, y_predictprob),\n",
    "        recall_score(y, y_predictprob),\n",
    "        accuracy_score(y, y_predictprob)\n",
    "    ))\n",
    "    \n",
    "    m, train_err, test_err = learning_curve(model, X, y, cv=5, scoring='f1', random_state=42)\n",
    "    m_trainerr = np.mean(train_err, axis=1)\n",
    "    m_testerr = np.mean(test_err, axis=1)\n",
    "\n",
    "    print(\"train error\", m_trainerr.mean(), \"test error\", m_testerr.mean())\n",
    "    print(\"y pred proba \", y_predictprob)\n",
    "    \n",
    "    ns2_probs = [0 for _ in range(len(y2))]\n",
    "    y2_predict = model.predict(X2)\n",
    "    y2_predictprobs = model.predict_proba(X2)[:, 1]\n",
    "    y2_predictprob = (model.predict_proba(X2)[:, 1] >= threshold).astype('int')\n",
    "    \n",
    "    print(\"Precision: {:6.4f}, Recall: {:6.4f}, Accuracy: {:6.4f}, f1: {:6.4f}\".format(\n",
    "        precision_score(y2, y2_predictprob),\n",
    "        recall_score(y2, y2_predictprob),\n",
    "        accuracy_score(y2, y2_predictprob),\n",
    "        f1_score(y2, y2_predictprob)\n",
    "    ))\n",
    "    \n",
    "    global y_pred_prob_df\n",
    "    global y_pred_df\n",
    "    y3_predictprob = (model.predict_proba(X2)[:, 1]) \n",
    "    \n",
    "    y_pred_prob_df = pd.DataFrame(y3_predictprob, columns=['y_pred_prob'])\n",
    "    y_pred_df = pd.DataFrame(y2_predictprob, columns=['y_pred'])\n",
    "    \n",
    "    fpr, tpr, thr = roc_curve(y2, y2_predictprobs)\n",
    "    \n",
    "    ns2_auc = roc_auc_score(y2, ns2_probs)\n",
    "    ns2_fpr, ns2_tpr, _ = roc_curve(y2, ns2_probs)\n",
    "\n",
    "    plt.rcParams.update({'figure.figsize': (7, 5)})\n",
    "    \n",
    "    plt.plot(fpr, tpr)\n",
    "    plt.xlabel('1 - Specificity (FPR)')\n",
    "    plt.ylabel('Sensitivity (TPR)')\n",
    "    plt.title(f\"Area Under the ROC Curve: {np.round(roc_auc_score(y2, y2_predictprobs), 4)}\")\n",
    "\n",
    "    print(f'AUC: {np.round(roc_auc_score(y2, y2_predictprobs), 4)}')\n",
    "\n",
    "    plt.plot(ns2_fpr, ns2_tpr, linestyle='--', label='No Skill')\n",
    "    plt.tight_layout()\n",
    "    plt.savefig(\"xg_aucroc.pdf\")\n",
    "    \n",
    "    conf_mat = confusion_matrix(y2, y2_predictprob)\n",
    "    cm = print_confusion_matrix(conf_mat, ['not a hit', 'is a hit'])\n",
    "    \n",
    "    return y_pred_prob_df, y_pred_df"
   ]
  },
  {
   "cell_type": "code",
   "execution_count": 172,
   "metadata": {},
   "outputs": [],
   "source": [
    "xgb_base = GradientBoostingClassifier()\n",
    "plot_model(xgb_base, X2_train, y2_train, X2_test, y2_test)"
   ]
  },
  {
   "cell_type": "code",
   "execution_count": null,
   "metadata": {},
   "outputs": [],
   "source": [
    "# GridSearchCV For Gradient Boosting\n",
    "grad = GradientBoostingClassifier()\n",
    "grad_param = {'n_estimators':[100],\n",
    "              'max_depth':[3,5],\n",
    "              #'max_features': [6,10],\n",
    "              #'min_samples_split': [None], \n",
    "              #'min_samples_leaf':[3,10],\n",
    "              'learning_rate': [0.1] #0.0001, 0.001, 0.01, \n",
    "             }\n",
    "\n",
    "grad_grid = GridSearchCV(grad, param_grid=grad_param, cv=3, scoring='f1', verbose=True, n_jobs=-1)\n",
    "\n"
   ]
  },
  {
   "cell_type": "code",
   "execution_count": null,
   "metadata": {},
   "outputs": [
    {
     "name": "stdout",
     "output_type": "stream",
     "text": [
      "Fitting 3 folds for each of 2 candidates, totalling 6 fits\n",
      "best score:  0.7859478009827844\n",
      "best params:  {'learning_rate': 0.1, 'max_depth': 5, 'n_estimators': 100}\n"
     ]
    }
   ],
   "source": [
    "xgb1 = grad_grid.fit(X2_train,y2_train)\n",
    "\n",
    "grad_ypred = grad_grid.predict(X2_test)\n",
    "\n",
    "grad_yproba = grad_grid.predict_proba(X2_test)[:,1]\n",
    "\n",
    "fpr_grad, tpr_grad, _ = roc_curve(y2_test, grad_yproba)\n",
    "\n",
    "print('best score: ',xgb1.best_score_)\n",
    "print('best params: ',xgb1.best_params_)"
   ]
  },
  {
   "cell_type": "code",
   "execution_count": null,
   "metadata": {},
   "outputs": [],
   "source": [
    "xgb2=GradientBoostingClassifier(                   \n",
    "                   max_depth=3, \n",
    "                   max_features=4,\n",
    "                   max_leaf_nodes=None,                   \n",
    "                   #min_samples_leaf=10,\n",
    "                   n_estimators=100,\n",
    "                   learning_rate=0.1)\n",
    "from xgboost import XGBClassifier\n",
    "\n",
    "# xgb2=XGBClassifier(                   \n",
    "#                    max_depth=3, \n",
    "#                    max_features=4,\n",
    "#                    max_leaf_nodes=None,                   \n",
    "#                    #min_samples_leaf=10,\n",
    "#                    n_estimators=100,\n",
    "#                    learning_rate=0.1)"
   ]
  },
  {
   "cell_type": "code",
   "execution_count": null,
   "metadata": {},
   "outputs": [],
   "source": [
    "xgb2b = xgb2.fit(X2_train,y2_train, )\n",
    "\n",
    "grad_ypred = xgb2.predict(X2_test)\n",
    "\n",
    "grad_yproba = xgb2.predict_proba(X2_test)[:,1]\n",
    "\n",
    "fpr_grad, tpr_grad, _ = roc_curve(y2_test, grad_yproba)"
   ]
  },
  {
   "cell_type": "code",
   "execution_count": null,
   "metadata": {},
   "outputs": [
    {
     "name": "stdout",
     "output_type": "stream",
     "text": [
      "The base LR accuracy is: 0.76652\n",
      "The base LR f1 is: 0.7793\n",
      "The base LR precision is: 0.73019\n",
      "The base LR recall is: 0.83575\n",
      "Precision: 0.7380, Recall: 0.8535, Accuracy: 0.7786\n",
      "train error 0.8061055377196018 test error 0.776812552106254\n",
      "y pred proba  [1 0 0 ... 1 0 0]\n",
      "Precision: 0.7452, Recall: 0.8497, Accuracy: 0.7812, f1: 0.7940\n",
      "AUC: 0.858\n"
     ]
    },
    {
     "data": {
      "image/png": "[encoded data removed]",
      "text/plain": [
       "<Figure size 700x500 with 1 Axes>"
      ]
     },
     "metadata": {},
     "output_type": "display_data"
    },
    {
     "data": {
      "image/png": "[encoded data removed]",
      "text/plain": [
       "<Figure size 700x500 with 2 Axes>"
      ]
     },
     "metadata": {},
     "output_type": "display_data"
    },
    {
     "data": {
      "text/plain": [
       "(      y_pred_prob\n",
       " 0        0.460370\n",
       " 1        0.574615\n",
       " 2        0.574201\n",
       " 3        0.035395\n",
       " 4        0.613965\n",
       " ...           ...\n",
       " 8107     0.697283\n",
       " 8108     0.030201\n",
       " 8109     0.721670\n",
       " 8110     0.032294\n",
       " 8111     0.784267\n",
       " \n",
       " [8112 rows x 1 columns],\n",
       "       y_pred\n",
       " 0          0\n",
       " 1          1\n",
       " 2          1\n",
       " 3          0\n",
       " 4          1\n",
       " ...      ...\n",
       " 8107       1\n",
       " 8108       0\n",
       " 8109       1\n",
       " 8110       0\n",
       " 8111       1\n",
       " \n",
       " [8112 rows x 1 columns])"
      ]
     },
     "execution_count": 159,
     "metadata": {},
     "output_type": "execute_result"
    }
   ],
   "source": [
    "plot_model(xgb2, X2_train, y2_train, X2_test, y2_test)"
   ]
  },
  {
   "cell_type": "code",
   "execution_count": null,
   "metadata": {},
   "outputs": [],
   "source": [
    "# # (pd.Series(xgb2.feature_importances_, index=X.columns)\n",
    "# #    .nlargest(4)\n",
    "# #    .plot(kind='barh'))  \n",
    "# from xgboost import plot_importance\n",
    "\n",
    "# plot_importance(xgb2)\n",
    "\n",
    "\n",
    "# importance = xgb2.feature_importances_\n",
    "# feature_names = xgb2.get_booster().feature_names\n",
    "\n",
    "# # Create a bar plot of feature importance\n",
    "# plt.figure(figsize=(10, 6))\n",
    "# plt.bar(range(len(importance)), importance, tick_label=feature_names)\n",
    "# plt.xticks(rotation=90)\n",
    "# plt.xlabel('Feature')\n",
    "# plt.ylabel('Importance')\n",
    "# plt.title('Feature Importance')\n",
    "# plt.tight_layout()\n",
    "# plt.show()\n",
    "# # import matplotlib as plt\n",
    "\n",
    "# # def plot_variable_importance_top10(model, X_train, top_n=10):\n",
    "# #     from pandas import DataFrame\n",
    "# #     imp = DataFrame({\"imp\": model.feature_importances_, \"names\": X_train.columns}).sort_values(\"imp\", ascending=True)\n",
    "# #     imp_top_n = imp[-top_n:]\n",
    "# #     fig, ax = plt.subplots(figsize=(imp_top_n.shape[0]/6, imp_top_n.shape[0]/5), dpi=300) \n",
    "# #     ax.barh(imp_top_n[\"names\"], imp_top_n[\"imp\"], color=\"green\") \n",
    "# #    # ax.set_xlabel('\\nVariable Importance')\n",
    "# #    # ax.set_ylabel('Features\\n') \n",
    "# #     ax.set_title('Variable Importance Plot Top 10\\n') \n",
    "# #     plt.show()\n",
    "\n",
    "# # import numpy as np\n",
    "# # matplotlib.use('TkAgg')  # Set the backend to a GUI-compatible backend\n",
    "\n",
    "\n",
    "# # def plot_variable_importance(model, feature_names, top_n=10):\n",
    "# #     # Get feature importances from the model\n",
    "# #     feature_importances = model.feature_importances_\n",
    "\n",
    "# #     # Get the indices of the top N features based on their importance\n",
    "# #     top_n_indices = np.argsort(feature_importances)[-top_n:]\n",
    "\n",
    "# #     # Get the names of the top N features\n",
    "# #     top_n_features = feature_names[top_n_indices]\n",
    "\n",
    "# #     # Get the importance values of the top N features\n",
    "# #     top_n_importances = feature_importances[top_n_indices]\n",
    "\n",
    "# #     # Plotting the variable importance plot\n",
    "# #     plt.figure(figsize=(10, 6))\n",
    "# #     plt.barh(range(len(top_n_features)), top_n_importances, align='center')\n",
    "# #     plt.yticks(range(len(top_n_features)), top_n_features)\n",
    "# #     plt.xlabel('Importance')\n",
    "# #     plt.ylabel('Features')\n",
    "# #     plt.title(f'Top {top_n} Variable Importance')\n",
    "\n",
    "# #     plt.show()  # Display the figure\n"
   ]
  },
  {
   "cell_type": "code",
   "execution_count": null,
   "metadata": {},
   "outputs": [
    {
     "ename": "KeyboardInterrupt",
     "evalue": "",
     "output_type": "error",
     "traceback": [
      "\u001b[0;31m---------------------------------------------------------------------------\u001b[0m",
      "\u001b[0;31mKeyboardInterrupt\u001b[0m                         Traceback (most recent call last)",
      "Cell \u001b[0;32mIn[162], line 15\u001b[0m\n\u001b[1;32m     12\u001b[0m grad_yproba \u001b[39m=\u001b[39m xgb2\u001b[39m.\u001b[39mpredict_proba(X2_test)[:,\u001b[39m1\u001b[39m]\n\u001b[1;32m     14\u001b[0m fpr_grad, tpr_grad, _ \u001b[39m=\u001b[39m roc_curve(y2_test, grad_yproba)\n\u001b[0;32m---> 15\u001b[0m plot_model(xgb2, X2_train, y2_train, X2_test, y2_test)\n\u001b[1;32m     18\u001b[0m \u001b[39m#matplotlib.use('tkAgg')\u001b[39;00m\n\u001b[1;32m     19\u001b[0m \u001b[39m# import matplotlib.pyplot as plt\u001b[39;00m\n\u001b[1;32m     20\u001b[0m \u001b[39m# %matplotlib inline\u001b[39;00m\n\u001b[0;32m   (...)\u001b[0m\n\u001b[1;32m     76\u001b[0m \u001b[39m# # Use NumPy's indexing to select the desired columns and create a new ndarray without those columns\u001b[39;00m\n\u001b[1;32m     77\u001b[0m \u001b[39m# X3_test = X2_test[:, ~np.array(column_indices)]\u001b[39;00m\n",
      "Cell \u001b[0;32mIn[153], line 110\u001b[0m, in \u001b[0;36mplot_model\u001b[0;34m(model, X, y, X2, y2, threshold)\u001b[0m\n\u001b[1;32m    107\u001b[0m y_predictprob \u001b[39m=\u001b[39m (model\u001b[39m.\u001b[39mpredict_proba(X)[:, \u001b[39m1\u001b[39m] \u001b[39m>\u001b[39m\u001b[39m=\u001b[39m threshold)\u001b[39m.\u001b[39mastype(\u001b[39m'\u001b[39m\u001b[39mint\u001b[39m\u001b[39m'\u001b[39m)\n\u001b[1;32m    109\u001b[0m LR_acc \u001b[39m=\u001b[39m np\u001b[39m.\u001b[39mround(np\u001b[39m.\u001b[39mmean(cross_val_score(model, X, y, scoring\u001b[39m=\u001b[39m\u001b[39m'\u001b[39m\u001b[39maccuracy\u001b[39m\u001b[39m'\u001b[39m, cv\u001b[39m=\u001b[39m\u001b[39m5\u001b[39m)), \u001b[39m5\u001b[39m)\n\u001b[0;32m--> 110\u001b[0m LR_f1 \u001b[39m=\u001b[39m np\u001b[39m.\u001b[39mround(np\u001b[39m.\u001b[39mmean(cross_val_score(model, X, y, scoring\u001b[39m=\u001b[39;49m\u001b[39m'\u001b[39;49m\u001b[39mf1\u001b[39;49m\u001b[39m'\u001b[39;49m, cv\u001b[39m=\u001b[39;49m\u001b[39m5\u001b[39;49m)), \u001b[39m5\u001b[39m)\n\u001b[1;32m    111\u001b[0m LR_prec \u001b[39m=\u001b[39m np\u001b[39m.\u001b[39mround(np\u001b[39m.\u001b[39mmean(cross_val_score(model, X, y, scoring\u001b[39m=\u001b[39m\u001b[39m'\u001b[39m\u001b[39mprecision\u001b[39m\u001b[39m'\u001b[39m, cv\u001b[39m=\u001b[39m\u001b[39m5\u001b[39m)), \u001b[39m5\u001b[39m)\n\u001b[1;32m    112\u001b[0m LR_recall \u001b[39m=\u001b[39m np\u001b[39m.\u001b[39mround(np\u001b[39m.\u001b[39mmean(cross_val_score(model, X, y, scoring\u001b[39m=\u001b[39m\u001b[39m'\u001b[39m\u001b[39mrecall\u001b[39m\u001b[39m'\u001b[39m, cv\u001b[39m=\u001b[39m\u001b[39m5\u001b[39m)), \u001b[39m5\u001b[39m)\n",
      "File \u001b[0;32m/Library/Frameworks/Python.framework/Versions/3.11/lib/python3.11/site-packages/sklearn/model_selection/_validation.py:515\u001b[0m, in \u001b[0;36mcross_val_score\u001b[0;34m(estimator, X, y, groups, scoring, cv, n_jobs, verbose, fit_params, pre_dispatch, error_score)\u001b[0m\n\u001b[1;32m    512\u001b[0m \u001b[39m# To ensure multimetric format is not supported\u001b[39;00m\n\u001b[1;32m    513\u001b[0m scorer \u001b[39m=\u001b[39m check_scoring(estimator, scoring\u001b[39m=\u001b[39mscoring)\n\u001b[0;32m--> 515\u001b[0m cv_results \u001b[39m=\u001b[39m cross_validate(\n\u001b[1;32m    516\u001b[0m     estimator\u001b[39m=\u001b[39;49mestimator,\n\u001b[1;32m    517\u001b[0m     X\u001b[39m=\u001b[39;49mX,\n\u001b[1;32m    518\u001b[0m     y\u001b[39m=\u001b[39;49my,\n\u001b[1;32m    519\u001b[0m     groups\u001b[39m=\u001b[39;49mgroups,\n\u001b[1;32m    520\u001b[0m     scoring\u001b[39m=\u001b[39;49m{\u001b[39m\"\u001b[39;49m\u001b[39mscore\u001b[39;49m\u001b[39m\"\u001b[39;49m: scorer},\n\u001b[1;32m    521\u001b[0m     cv\u001b[39m=\u001b[39;49mcv,\n\u001b[1;32m    522\u001b[0m     n_jobs\u001b[39m=\u001b[39;49mn_jobs,\n\u001b[1;32m    523\u001b[0m     verbose\u001b[39m=\u001b[39;49mverbose,\n\u001b[1;32m    524\u001b[0m     fit_params\u001b[39m=\u001b[39;49mfit_params,\n\u001b[1;32m    525\u001b[0m     pre_dispatch\u001b[39m=\u001b[39;49mpre_dispatch,\n\u001b[1;32m    526\u001b[0m     error_score\u001b[39m=\u001b[39;49merror_score,\n\u001b[1;32m    527\u001b[0m )\n\u001b[1;32m    528\u001b[0m \u001b[39mreturn\u001b[39;00m cv_results[\u001b[39m\"\u001b[39m\u001b[39mtest_score\u001b[39m\u001b[39m\"\u001b[39m]\n",
      "File \u001b[0;32m/Library/Frameworks/Python.framework/Versions/3.11/lib/python3.11/site-packages/sklearn/model_selection/_validation.py:266\u001b[0m, in \u001b[0;36mcross_validate\u001b[0;34m(estimator, X, y, groups, scoring, cv, n_jobs, verbose, fit_params, pre_dispatch, return_train_score, return_estimator, error_score)\u001b[0m\n\u001b[1;32m    263\u001b[0m \u001b[39m# We clone the estimator to make sure that all the folds are\u001b[39;00m\n\u001b[1;32m    264\u001b[0m \u001b[39m# independent, and that it is pickle-able.\u001b[39;00m\n\u001b[1;32m    265\u001b[0m parallel \u001b[39m=\u001b[39m Parallel(n_jobs\u001b[39m=\u001b[39mn_jobs, verbose\u001b[39m=\u001b[39mverbose, pre_dispatch\u001b[39m=\u001b[39mpre_dispatch)\n\u001b[0;32m--> 266\u001b[0m results \u001b[39m=\u001b[39m parallel(\n\u001b[1;32m    267\u001b[0m     delayed(_fit_and_score)(\n\u001b[1;32m    268\u001b[0m         clone(estimator),\n\u001b[1;32m    269\u001b[0m         X,\n\u001b[1;32m    270\u001b[0m         y,\n\u001b[1;32m    271\u001b[0m         scorers,\n\u001b[1;32m    272\u001b[0m         train,\n\u001b[1;32m    273\u001b[0m         test,\n\u001b[1;32m    274\u001b[0m         verbose,\n\u001b[1;32m    275\u001b[0m         \u001b[39mNone\u001b[39;49;00m,\n\u001b[1;32m    276\u001b[0m         fit_params,\n\u001b[1;32m    277\u001b[0m         return_train_score\u001b[39m=\u001b[39;49mreturn_train_score,\n\u001b[1;32m    278\u001b[0m         return_times\u001b[39m=\u001b[39;49m\u001b[39mTrue\u001b[39;49;00m,\n\u001b[1;32m    279\u001b[0m         return_estimator\u001b[39m=\u001b[39;49mreturn_estimator,\n\u001b[1;32m    280\u001b[0m         error_score\u001b[39m=\u001b[39;49merror_score,\n\u001b[1;32m    281\u001b[0m     )\n\u001b[1;32m    282\u001b[0m     \u001b[39mfor\u001b[39;49;00m train, test \u001b[39min\u001b[39;49;00m cv\u001b[39m.\u001b[39;49msplit(X, y, groups)\n\u001b[1;32m    283\u001b[0m )\n\u001b[1;32m    285\u001b[0m _warn_or_raise_about_fit_failures(results, error_score)\n\u001b[1;32m    287\u001b[0m \u001b[39m# For callabe scoring, the return type is only know after calling. If the\u001b[39;00m\n\u001b[1;32m    288\u001b[0m \u001b[39m# return type is a dictionary, the error scores can now be inserted with\u001b[39;00m\n\u001b[1;32m    289\u001b[0m \u001b[39m# the correct key.\u001b[39;00m\n",
      "File \u001b[0;32m/Library/Frameworks/Python.framework/Versions/3.11/lib/python3.11/site-packages/sklearn/utils/parallel.py:63\u001b[0m, in \u001b[0;36mParallel.__call__\u001b[0;34m(self, iterable)\u001b[0m\n\u001b[1;32m     58\u001b[0m config \u001b[39m=\u001b[39m get_config()\n\u001b[1;32m     59\u001b[0m iterable_with_config \u001b[39m=\u001b[39m (\n\u001b[1;32m     60\u001b[0m     (_with_config(delayed_func, config), args, kwargs)\n\u001b[1;32m     61\u001b[0m     \u001b[39mfor\u001b[39;00m delayed_func, args, kwargs \u001b[39min\u001b[39;00m iterable\n\u001b[1;32m     62\u001b[0m )\n\u001b[0;32m---> 63\u001b[0m \u001b[39mreturn\u001b[39;00m \u001b[39msuper\u001b[39;49m()\u001b[39m.\u001b[39;49m\u001b[39m__call__\u001b[39;49m(iterable_with_config)\n",
      "File \u001b[0;32m/Library/Frameworks/Python.framework/Versions/3.11/lib/python3.11/site-packages/joblib/parallel.py:1088\u001b[0m, in \u001b[0;36mParallel.__call__\u001b[0;34m(self, iterable)\u001b[0m\n\u001b[1;32m   1085\u001b[0m \u001b[39mif\u001b[39;00m \u001b[39mself\u001b[39m\u001b[39m.\u001b[39mdispatch_one_batch(iterator):\n\u001b[1;32m   1086\u001b[0m     \u001b[39mself\u001b[39m\u001b[39m.\u001b[39m_iterating \u001b[39m=\u001b[39m \u001b[39mself\u001b[39m\u001b[39m.\u001b[39m_original_iterator \u001b[39mis\u001b[39;00m \u001b[39mnot\u001b[39;00m \u001b[39mNone\u001b[39;00m\n\u001b[0;32m-> 1088\u001b[0m \u001b[39mwhile\u001b[39;00m \u001b[39mself\u001b[39;49m\u001b[39m.\u001b[39;49mdispatch_one_batch(iterator):\n\u001b[1;32m   1089\u001b[0m     \u001b[39mpass\u001b[39;00m\n\u001b[1;32m   1091\u001b[0m \u001b[39mif\u001b[39;00m pre_dispatch \u001b[39m==\u001b[39m \u001b[39m\"\u001b[39m\u001b[39mall\u001b[39m\u001b[39m\"\u001b[39m \u001b[39mor\u001b[39;00m n_jobs \u001b[39m==\u001b[39m \u001b[39m1\u001b[39m:\n\u001b[1;32m   1092\u001b[0m     \u001b[39m# The iterable was consumed all at once by the above for loop.\u001b[39;00m\n\u001b[1;32m   1093\u001b[0m     \u001b[39m# No need to wait for async callbacks to trigger to\u001b[39;00m\n\u001b[1;32m   1094\u001b[0m     \u001b[39m# consumption.\u001b[39;00m\n",
      "File \u001b[0;32m/Library/Frameworks/Python.framework/Versions/3.11/lib/python3.11/site-packages/joblib/parallel.py:901\u001b[0m, in \u001b[0;36mParallel.dispatch_one_batch\u001b[0;34m(self, iterator)\u001b[0m\n\u001b[1;32m    899\u001b[0m     \u001b[39mreturn\u001b[39;00m \u001b[39mFalse\u001b[39;00m\n\u001b[1;32m    900\u001b[0m \u001b[39melse\u001b[39;00m:\n\u001b[0;32m--> 901\u001b[0m     \u001b[39mself\u001b[39;49m\u001b[39m.\u001b[39;49m_dispatch(tasks)\n\u001b[1;32m    902\u001b[0m     \u001b[39mreturn\u001b[39;00m \u001b[39mTrue\u001b[39;00m\n",
      "File \u001b[0;32m/Library/Frameworks/Python.framework/Versions/3.11/lib/python3.11/site-packages/joblib/parallel.py:819\u001b[0m, in \u001b[0;36mParallel._dispatch\u001b[0;34m(self, batch)\u001b[0m\n\u001b[1;32m    817\u001b[0m \u001b[39mwith\u001b[39;00m \u001b[39mself\u001b[39m\u001b[39m.\u001b[39m_lock:\n\u001b[1;32m    818\u001b[0m     job_idx \u001b[39m=\u001b[39m \u001b[39mlen\u001b[39m(\u001b[39mself\u001b[39m\u001b[39m.\u001b[39m_jobs)\n\u001b[0;32m--> 819\u001b[0m     job \u001b[39m=\u001b[39m \u001b[39mself\u001b[39;49m\u001b[39m.\u001b[39;49m_backend\u001b[39m.\u001b[39;49mapply_async(batch, callback\u001b[39m=\u001b[39;49mcb)\n\u001b[1;32m    820\u001b[0m     \u001b[39m# A job can complete so quickly than its callback is\u001b[39;00m\n\u001b[1;32m    821\u001b[0m     \u001b[39m# called before we get here, causing self._jobs to\u001b[39;00m\n\u001b[1;32m    822\u001b[0m     \u001b[39m# grow. To ensure correct results ordering, .insert is\u001b[39;00m\n\u001b[1;32m    823\u001b[0m     \u001b[39m# used (rather than .append) in the following line\u001b[39;00m\n\u001b[1;32m    824\u001b[0m     \u001b[39mself\u001b[39m\u001b[39m.\u001b[39m_jobs\u001b[39m.\u001b[39minsert(job_idx, job)\n",
      "File \u001b[0;32m/Library/Frameworks/Python.framework/Versions/3.11/lib/python3.11/site-packages/joblib/_parallel_backends.py:208\u001b[0m, in \u001b[0;36mSequentialBackend.apply_async\u001b[0;34m(self, func, callback)\u001b[0m\n\u001b[1;32m    206\u001b[0m \u001b[39mdef\u001b[39;00m \u001b[39mapply_async\u001b[39m(\u001b[39mself\u001b[39m, func, callback\u001b[39m=\u001b[39m\u001b[39mNone\u001b[39;00m):\n\u001b[1;32m    207\u001b[0m \u001b[39m    \u001b[39m\u001b[39m\"\"\"Schedule a func to be run\"\"\"\u001b[39;00m\n\u001b[0;32m--> 208\u001b[0m     result \u001b[39m=\u001b[39m ImmediateResult(func)\n\u001b[1;32m    209\u001b[0m     \u001b[39mif\u001b[39;00m callback:\n\u001b[1;32m    210\u001b[0m         callback(result)\n",
      "File \u001b[0;32m/Library/Frameworks/Python.framework/Versions/3.11/lib/python3.11/site-packages/joblib/_parallel_backends.py:597\u001b[0m, in \u001b[0;36mImmediateResult.__init__\u001b[0;34m(self, batch)\u001b[0m\n\u001b[1;32m    594\u001b[0m \u001b[39mdef\u001b[39;00m \u001b[39m__init__\u001b[39m(\u001b[39mself\u001b[39m, batch):\n\u001b[1;32m    595\u001b[0m     \u001b[39m# Don't delay the application, to avoid keeping the input\u001b[39;00m\n\u001b[1;32m    596\u001b[0m     \u001b[39m# arguments in memory\u001b[39;00m\n\u001b[0;32m--> 597\u001b[0m     \u001b[39mself\u001b[39m\u001b[39m.\u001b[39mresults \u001b[39m=\u001b[39m batch()\n",
      "File \u001b[0;32m/Library/Frameworks/Python.framework/Versions/3.11/lib/python3.11/site-packages/joblib/parallel.py:288\u001b[0m, in \u001b[0;36mBatchedCalls.__call__\u001b[0;34m(self)\u001b[0m\n\u001b[1;32m    284\u001b[0m \u001b[39mdef\u001b[39;00m \u001b[39m__call__\u001b[39m(\u001b[39mself\u001b[39m):\n\u001b[1;32m    285\u001b[0m     \u001b[39m# Set the default nested backend to self._backend but do not set the\u001b[39;00m\n\u001b[1;32m    286\u001b[0m     \u001b[39m# change the default number of processes to -1\u001b[39;00m\n\u001b[1;32m    287\u001b[0m     \u001b[39mwith\u001b[39;00m parallel_backend(\u001b[39mself\u001b[39m\u001b[39m.\u001b[39m_backend, n_jobs\u001b[39m=\u001b[39m\u001b[39mself\u001b[39m\u001b[39m.\u001b[39m_n_jobs):\n\u001b[0;32m--> 288\u001b[0m         \u001b[39mreturn\u001b[39;00m [func(\u001b[39m*\u001b[39;49margs, \u001b[39m*\u001b[39;49m\u001b[39m*\u001b[39;49mkwargs)\n\u001b[1;32m    289\u001b[0m                 \u001b[39mfor\u001b[39;49;00m func, args, kwargs \u001b[39min\u001b[39;49;00m \u001b[39mself\u001b[39;49m\u001b[39m.\u001b[39;49mitems]\n",
      "File \u001b[0;32m/Library/Frameworks/Python.framework/Versions/3.11/lib/python3.11/site-packages/joblib/parallel.py:288\u001b[0m, in \u001b[0;36m<listcomp>\u001b[0;34m(.0)\u001b[0m\n\u001b[1;32m    284\u001b[0m \u001b[39mdef\u001b[39;00m \u001b[39m__call__\u001b[39m(\u001b[39mself\u001b[39m):\n\u001b[1;32m    285\u001b[0m     \u001b[39m# Set the default nested backend to self._backend but do not set the\u001b[39;00m\n\u001b[1;32m    286\u001b[0m     \u001b[39m# change the default number of processes to -1\u001b[39;00m\n\u001b[1;32m    287\u001b[0m     \u001b[39mwith\u001b[39;00m parallel_backend(\u001b[39mself\u001b[39m\u001b[39m.\u001b[39m_backend, n_jobs\u001b[39m=\u001b[39m\u001b[39mself\u001b[39m\u001b[39m.\u001b[39m_n_jobs):\n\u001b[0;32m--> 288\u001b[0m         \u001b[39mreturn\u001b[39;00m [func(\u001b[39m*\u001b[39;49margs, \u001b[39m*\u001b[39;49m\u001b[39m*\u001b[39;49mkwargs)\n\u001b[1;32m    289\u001b[0m                 \u001b[39mfor\u001b[39;00m func, args, kwargs \u001b[39min\u001b[39;00m \u001b[39mself\u001b[39m\u001b[39m.\u001b[39mitems]\n",
      "File \u001b[0;32m/Library/Frameworks/Python.framework/Versions/3.11/lib/python3.11/site-packages/sklearn/utils/parallel.py:123\u001b[0m, in \u001b[0;36m_FuncWrapper.__call__\u001b[0;34m(self, *args, **kwargs)\u001b[0m\n\u001b[1;32m    121\u001b[0m     config \u001b[39m=\u001b[39m {}\n\u001b[1;32m    122\u001b[0m \u001b[39mwith\u001b[39;00m config_context(\u001b[39m*\u001b[39m\u001b[39m*\u001b[39mconfig):\n\u001b[0;32m--> 123\u001b[0m     \u001b[39mreturn\u001b[39;00m \u001b[39mself\u001b[39;49m\u001b[39m.\u001b[39;49mfunction(\u001b[39m*\u001b[39;49margs, \u001b[39m*\u001b[39;49m\u001b[39m*\u001b[39;49mkwargs)\n",
      "File \u001b[0;32m/Library/Frameworks/Python.framework/Versions/3.11/lib/python3.11/site-packages/sklearn/model_selection/_validation.py:686\u001b[0m, in \u001b[0;36m_fit_and_score\u001b[0;34m(estimator, X, y, scorer, train, test, verbose, parameters, fit_params, return_train_score, return_parameters, return_n_test_samples, return_times, return_estimator, split_progress, candidate_progress, error_score)\u001b[0m\n\u001b[1;32m    684\u001b[0m         estimator\u001b[39m.\u001b[39mfit(X_train, \u001b[39m*\u001b[39m\u001b[39m*\u001b[39mfit_params)\n\u001b[1;32m    685\u001b[0m     \u001b[39melse\u001b[39;00m:\n\u001b[0;32m--> 686\u001b[0m         estimator\u001b[39m.\u001b[39;49mfit(X_train, y_train, \u001b[39m*\u001b[39;49m\u001b[39m*\u001b[39;49mfit_params)\n\u001b[1;32m    688\u001b[0m \u001b[39mexcept\u001b[39;00m \u001b[39mException\u001b[39;00m:\n\u001b[1;32m    689\u001b[0m     \u001b[39m# Note fit time as time until error\u001b[39;00m\n\u001b[1;32m    690\u001b[0m     fit_time \u001b[39m=\u001b[39m time\u001b[39m.\u001b[39mtime() \u001b[39m-\u001b[39m start_time\n",
      "File \u001b[0;32m/Library/Frameworks/Python.framework/Versions/3.11/lib/python3.11/site-packages/sklearn/ensemble/_gb.py:538\u001b[0m, in \u001b[0;36mBaseGradientBoosting.fit\u001b[0;34m(self, X, y, sample_weight, monitor)\u001b[0m\n\u001b[1;32m    535\u001b[0m     \u001b[39mself\u001b[39m\u001b[39m.\u001b[39m_resize_state()\n\u001b[1;32m    537\u001b[0m \u001b[39m# fit the boosting stages\u001b[39;00m\n\u001b[0;32m--> 538\u001b[0m n_stages \u001b[39m=\u001b[39m \u001b[39mself\u001b[39;49m\u001b[39m.\u001b[39;49m_fit_stages(\n\u001b[1;32m    539\u001b[0m     X,\n\u001b[1;32m    540\u001b[0m     y,\n\u001b[1;32m    541\u001b[0m     raw_predictions,\n\u001b[1;32m    542\u001b[0m     sample_weight,\n\u001b[1;32m    543\u001b[0m     \u001b[39mself\u001b[39;49m\u001b[39m.\u001b[39;49m_rng,\n\u001b[1;32m    544\u001b[0m     X_val,\n\u001b[1;32m    545\u001b[0m     y_val,\n\u001b[1;32m    546\u001b[0m     sample_weight_val,\n\u001b[1;32m    547\u001b[0m     begin_at_stage,\n\u001b[1;32m    548\u001b[0m     monitor,\n\u001b[1;32m    549\u001b[0m )\n\u001b[1;32m    551\u001b[0m \u001b[39m# change shape of arrays after fit (early-stopping or additional ests)\u001b[39;00m\n\u001b[1;32m    552\u001b[0m \u001b[39mif\u001b[39;00m n_stages \u001b[39m!=\u001b[39m \u001b[39mself\u001b[39m\u001b[39m.\u001b[39mestimators_\u001b[39m.\u001b[39mshape[\u001b[39m0\u001b[39m]:\n",
      "File \u001b[0;32m/Library/Frameworks/Python.framework/Versions/3.11/lib/python3.11/site-packages/sklearn/ensemble/_gb.py:615\u001b[0m, in \u001b[0;36mBaseGradientBoosting._fit_stages\u001b[0;34m(self, X, y, raw_predictions, sample_weight, random_state, X_val, y_val, sample_weight_val, begin_at_stage, monitor)\u001b[0m\n\u001b[1;32m    608\u001b[0m     old_oob_score \u001b[39m=\u001b[39m loss_(\n\u001b[1;32m    609\u001b[0m         y[\u001b[39m~\u001b[39msample_mask],\n\u001b[1;32m    610\u001b[0m         raw_predictions[\u001b[39m~\u001b[39msample_mask],\n\u001b[1;32m    611\u001b[0m         sample_weight[\u001b[39m~\u001b[39msample_mask],\n\u001b[1;32m    612\u001b[0m     )\n\u001b[1;32m    614\u001b[0m \u001b[39m# fit next stage of trees\u001b[39;00m\n\u001b[0;32m--> 615\u001b[0m raw_predictions \u001b[39m=\u001b[39m \u001b[39mself\u001b[39;49m\u001b[39m.\u001b[39;49m_fit_stage(\n\u001b[1;32m    616\u001b[0m     i,\n\u001b[1;32m    617\u001b[0m     X,\n\u001b[1;32m    618\u001b[0m     y,\n\u001b[1;32m    619\u001b[0m     raw_predictions,\n\u001b[1;32m    620\u001b[0m     sample_weight,\n\u001b[1;32m    621\u001b[0m     sample_mask,\n\u001b[1;32m    622\u001b[0m     random_state,\n\u001b[1;32m    623\u001b[0m     X_csc,\n\u001b[1;32m    624\u001b[0m     X_csr,\n\u001b[1;32m    625\u001b[0m )\n\u001b[1;32m    627\u001b[0m \u001b[39m# track deviance (= loss)\u001b[39;00m\n\u001b[1;32m    628\u001b[0m \u001b[39mif\u001b[39;00m do_oob:\n",
      "File \u001b[0;32m/Library/Frameworks/Python.framework/Versions/3.11/lib/python3.11/site-packages/sklearn/ensemble/_gb.py:257\u001b[0m, in \u001b[0;36mBaseGradientBoosting._fit_stage\u001b[0;34m(self, i, X, y, raw_predictions, sample_weight, sample_mask, random_state, X_csc, X_csr)\u001b[0m\n\u001b[1;32m    254\u001b[0m     sample_weight \u001b[39m=\u001b[39m sample_weight \u001b[39m*\u001b[39m sample_mask\u001b[39m.\u001b[39mastype(np\u001b[39m.\u001b[39mfloat64)\n\u001b[1;32m    256\u001b[0m X \u001b[39m=\u001b[39m X_csr \u001b[39mif\u001b[39;00m X_csr \u001b[39mis\u001b[39;00m \u001b[39mnot\u001b[39;00m \u001b[39mNone\u001b[39;00m \u001b[39melse\u001b[39;00m X\n\u001b[0;32m--> 257\u001b[0m tree\u001b[39m.\u001b[39;49mfit(X, residual, sample_weight\u001b[39m=\u001b[39;49msample_weight, check_input\u001b[39m=\u001b[39;49m\u001b[39mFalse\u001b[39;49;00m)\n\u001b[1;32m    259\u001b[0m \u001b[39m# update tree leaves\u001b[39;00m\n\u001b[1;32m    260\u001b[0m loss\u001b[39m.\u001b[39mupdate_terminal_regions(\n\u001b[1;32m    261\u001b[0m     tree\u001b[39m.\u001b[39mtree_,\n\u001b[1;32m    262\u001b[0m     X,\n\u001b[0;32m   (...)\u001b[0m\n\u001b[1;32m    269\u001b[0m     k\u001b[39m=\u001b[39mk,\n\u001b[1;32m    270\u001b[0m )\n",
      "File \u001b[0;32m/Library/Frameworks/Python.framework/Versions/3.11/lib/python3.11/site-packages/sklearn/tree/_classes.py:1247\u001b[0m, in \u001b[0;36mDecisionTreeRegressor.fit\u001b[0;34m(self, X, y, sample_weight, check_input)\u001b[0m\n\u001b[1;32m   1218\u001b[0m \u001b[39mdef\u001b[39;00m \u001b[39mfit\u001b[39m(\u001b[39mself\u001b[39m, X, y, sample_weight\u001b[39m=\u001b[39m\u001b[39mNone\u001b[39;00m, check_input\u001b[39m=\u001b[39m\u001b[39mTrue\u001b[39;00m):\n\u001b[1;32m   1219\u001b[0m \u001b[39m    \u001b[39m\u001b[39m\"\"\"Build a decision tree regressor from the training set (X, y).\u001b[39;00m\n\u001b[1;32m   1220\u001b[0m \n\u001b[1;32m   1221\u001b[0m \u001b[39m    Parameters\u001b[39;00m\n\u001b[0;32m   (...)\u001b[0m\n\u001b[1;32m   1244\u001b[0m \u001b[39m        Fitted estimator.\u001b[39;00m\n\u001b[1;32m   1245\u001b[0m \u001b[39m    \"\"\"\u001b[39;00m\n\u001b[0;32m-> 1247\u001b[0m     \u001b[39msuper\u001b[39;49m()\u001b[39m.\u001b[39;49mfit(\n\u001b[1;32m   1248\u001b[0m         X,\n\u001b[1;32m   1249\u001b[0m         y,\n\u001b[1;32m   1250\u001b[0m         sample_weight\u001b[39m=\u001b[39;49msample_weight,\n\u001b[1;32m   1251\u001b[0m         check_input\u001b[39m=\u001b[39;49mcheck_input,\n\u001b[1;32m   1252\u001b[0m     )\n\u001b[1;32m   1253\u001b[0m     \u001b[39mreturn\u001b[39;00m \u001b[39mself\u001b[39m\n",
      "File \u001b[0;32m/Library/Frameworks/Python.framework/Versions/3.11/lib/python3.11/site-packages/sklearn/tree/_classes.py:379\u001b[0m, in \u001b[0;36mBaseDecisionTree.fit\u001b[0;34m(self, X, y, sample_weight, check_input)\u001b[0m\n\u001b[1;32m    368\u001b[0m \u001b[39melse\u001b[39;00m:\n\u001b[1;32m    369\u001b[0m     builder \u001b[39m=\u001b[39m BestFirstTreeBuilder(\n\u001b[1;32m    370\u001b[0m         splitter,\n\u001b[1;32m    371\u001b[0m         min_samples_split,\n\u001b[0;32m   (...)\u001b[0m\n\u001b[1;32m    376\u001b[0m         \u001b[39mself\u001b[39m\u001b[39m.\u001b[39mmin_impurity_decrease,\n\u001b[1;32m    377\u001b[0m     )\n\u001b[0;32m--> 379\u001b[0m builder\u001b[39m.\u001b[39;49mbuild(\u001b[39mself\u001b[39;49m\u001b[39m.\u001b[39;49mtree_, X, y, sample_weight)\n\u001b[1;32m    381\u001b[0m \u001b[39mif\u001b[39;00m \u001b[39mself\u001b[39m\u001b[39m.\u001b[39mn_outputs_ \u001b[39m==\u001b[39m \u001b[39m1\u001b[39m \u001b[39mand\u001b[39;00m is_classifier(\u001b[39mself\u001b[39m):\n\u001b[1;32m    382\u001b[0m     \u001b[39mself\u001b[39m\u001b[39m.\u001b[39mn_classes_ \u001b[39m=\u001b[39m \u001b[39mself\u001b[39m\u001b[39m.\u001b[39mn_classes_[\u001b[39m0\u001b[39m]\n",
      "\u001b[0;31mKeyboardInterrupt\u001b[0m: "
     ]
    }
   ],
   "source": [
    "xgb2=GradientBoostingClassifier(                   \n",
    "                   max_depth=3, \n",
    "                   max_features=4,\n",
    "                   max_leaf_nodes=None,                   \n",
    "                   #min_samples_leaf=10,\n",
    "                   n_estimators=100,\n",
    "                   learning_rate=0.1)\n",
    "xgb2b = xgb2.fit(X2_train,y2_train)\n",
    "\n",
    "grad_ypred = xgb2.predict(X2_test)\n",
    "\n",
    "grad_yproba = xgb2.predict_proba(X2_test)[:,1]\n",
    "\n",
    "fpr_grad, tpr_grad, _ = roc_curve(y2_test, grad_yproba)\n",
    "plot_model(xgb2, X2_train, y2_train, X2_test, y2_test)\n",
    "\n",
    "\n",
    "#matplotlib.use('tkAgg')\n",
    "# import matplotlib.pyplot as plt\n",
    "# %matplotlib inline\n",
    "\n",
    "# feature_names = X2_train.columns\n",
    "\n",
    "# flist2 = grad_grid.best_estimator_.feature_importances_\n",
    "\n",
    "# std=np.std([flist2 for tree in grad_grid.best_estimator_.estimators_],axis=0)\n",
    "# indices = np.argsort(flist2)[::]\n",
    "\n",
    "# print(indices)\n",
    "\n",
    "# ls=feature_names[indices]\n",
    "# print(ls)\n",
    "\n",
    "# # Print the feature ranking\n",
    "# # print(\"Feature ranking:\")\n",
    "# for f in range(X2_train.shape[1]):\n",
    "#     print(\"%d. feature %d (%f)\" % (f + 1, indices[f] , flist2[indices[f]])) \n",
    "\n",
    "# # Plot the impurity-based feature importances of the forest\n",
    "# ax=plt.figure(figsize=(10,6))\n",
    "\n",
    "\n",
    "# #ax = fig.add_subplot(221, polar=True)    \n",
    "# plt.grid(b=None)\n",
    "# #plt.title(\"Feature importances\")\n",
    "# # barlist=plt.bar(range(X2_train.shape[1]), flist2[indices],\n",
    "# #         color=\"lightblue\", yerr=std[indices], align=\"center\",alpha=0.85)\n",
    "\n",
    "# barlist=plt.barh(range(X2_train.shape[1]),flist2[indices],\n",
    "#     color=\"steelblue\", yerr=std[indices], align=\"center\",alpha=0.75)\n",
    "\n",
    "# plt.yticks(range(X2_train.shape[1]), ls ,rotation=0,fontsize=16) #indices)\n",
    "\n",
    "# plt.xticks(fontsize=12) #indices)\n",
    "# plt.xlabel('Relative Score', fontsize=16)\n",
    "# #plt.xlim([-1, X2_train.shape[1]])\n",
    "# plt.gcf().subplots_adjust(bottom=0.15)\n",
    "# plt.tight_layout()\n",
    "# barlist[-1].set_color('darkorange')\n",
    "\n",
    "# for i in range(0,5):\n",
    "#     barlist[i].set_color('grey')\n",
    "# #barlist[1].set_color('grey')\n",
    "# plt.savefig(\"xg_featimportance.pdf\")\n",
    "# plt.show()\n",
    "\n",
    "# X3_train = X2_train.drop(['tempo','mode','key','speechiness','energy'], axis = 1)\n",
    "# X3_test = X2_test.drop(['tempo','mode','key','speechiness','energy'], axis = 1)\n",
    "\n",
    "\n",
    "# columns_to_delete = ['tempo', 'mode', 'key', 'speechiness', 'energy']\n",
    "\n",
    "# # Convert the column names to column indices\n",
    "# column_indices = [column_name in X2_test.columns for column_name in columns_to_delete]\n",
    "\n",
    "# # Use NumPy's indexing to select the desired columns and create a new ndarray without those columns\n",
    "# X3_test = X2_test[:, ~np.array(column_indices)]"
   ]
  },
  {
   "cell_type": "code",
   "execution_count": null,
   "metadata": {},
   "outputs": [
    {
     "name": "stderr",
     "output_type": "stream",
     "text": [
      "/var/folders/3h/r2hbd12s1r9ccvfmt_h9r3pm0000gn/T/ipykernel_39547/3303844173.py:4: FutureWarning: elementwise comparison failed; returning scalar instead, but in the future will perform elementwise comparison\n",
      "  column_indices = [np.where(X2_train[0] == col_name)[0][0] for col_name in column_names]\n"
     ]
    },
    {
     "ename": "IndexError",
     "evalue": "index 0 is out of bounds for axis 0 with size 0",
     "output_type": "error",
     "traceback": [
      "\u001b[0;31m---------------------------------------------------------------------------\u001b[0m",
      "\u001b[0;31mIndexError\u001b[0m                                Traceback (most recent call last)",
      "Cell \u001b[0;32mIn[90], line 4\u001b[0m\n\u001b[1;32m      1\u001b[0m column_names \u001b[39m=\u001b[39m [\u001b[39m'\u001b[39m\u001b[39mtempo\u001b[39m\u001b[39m'\u001b[39m, \u001b[39m'\u001b[39m\u001b[39mmode\u001b[39m\u001b[39m'\u001b[39m, \u001b[39m'\u001b[39m\u001b[39mkey\u001b[39m\u001b[39m'\u001b[39m, \u001b[39m'\u001b[39m\u001b[39mspeechiness\u001b[39m\u001b[39m'\u001b[39m, \u001b[39m'\u001b[39m\u001b[39menergy\u001b[39m\u001b[39m'\u001b[39m]\n\u001b[1;32m      3\u001b[0m \u001b[39m# Retrieve the column indices for the specified column names\u001b[39;00m\n\u001b[0;32m----> 4\u001b[0m column_indices \u001b[39m=\u001b[39m [np\u001b[39m.\u001b[39;49mwhere(X2_train[\u001b[39m0\u001b[39;49m] \u001b[39m==\u001b[39;49m col_name)[\u001b[39m0\u001b[39;49m][\u001b[39m0\u001b[39;49m] \u001b[39mfor\u001b[39;49;00m col_name \u001b[39min\u001b[39;49;00m column_names]\n",
      "Cell \u001b[0;32mIn[90], line 4\u001b[0m, in \u001b[0;36m<listcomp>\u001b[0;34m(.0)\u001b[0m\n\u001b[1;32m      1\u001b[0m column_names \u001b[39m=\u001b[39m [\u001b[39m'\u001b[39m\u001b[39mtempo\u001b[39m\u001b[39m'\u001b[39m, \u001b[39m'\u001b[39m\u001b[39mmode\u001b[39m\u001b[39m'\u001b[39m, \u001b[39m'\u001b[39m\u001b[39mkey\u001b[39m\u001b[39m'\u001b[39m, \u001b[39m'\u001b[39m\u001b[39mspeechiness\u001b[39m\u001b[39m'\u001b[39m, \u001b[39m'\u001b[39m\u001b[39menergy\u001b[39m\u001b[39m'\u001b[39m]\n\u001b[1;32m      3\u001b[0m \u001b[39m# Retrieve the column indices for the specified column names\u001b[39;00m\n\u001b[0;32m----> 4\u001b[0m column_indices \u001b[39m=\u001b[39m [np\u001b[39m.\u001b[39;49mwhere(X2_train[\u001b[39m0\u001b[39;49m] \u001b[39m==\u001b[39;49m col_name)[\u001b[39m0\u001b[39;49m][\u001b[39m0\u001b[39;49m] \u001b[39mfor\u001b[39;00m col_name \u001b[39min\u001b[39;00m column_names]\n",
      "\u001b[0;31mIndexError\u001b[0m: index 0 is out of bounds for axis 0 with size 0"
     ]
    }
   ],
   "source": [
    "# column_names = ['tempo', 'mode', 'key', 'speechiness', 'energy']\n",
    "\n",
    "# # Retrieve the column indices for the specified column names\n",
    "# column_indices = [np.where(X2_train[0] == col_name)[0][0] for col_name in column_names]"
   ]
  },
  {
   "cell_type": "code",
   "execution_count": null,
   "metadata": {},
   "outputs": [],
   "source": [
    "# plot_variable_importance_top10(xgb2, X2_train, top_n=10)\n",
    "\n",
    "# plot_variable_importance_top10(xgb2, X2_train, top_n=10)"
   ]
  },
  {
   "attachments": {},
   "cell_type": "markdown",
   "metadata": {},
   "source": [
    "REFITTING BASED ON DROPPED COLUMNS"
   ]
  },
  {
   "cell_type": "code",
   "execution_count": null,
   "metadata": {},
   "outputs": [
    {
     "ename": "AttributeError",
     "evalue": "'numpy.ndarray' object has no attribute 'drop'",
     "output_type": "error",
     "traceback": [
      "\u001b[0;31m---------------------------------------------------------------------------\u001b[0m",
      "\u001b[0;31mAttributeError\u001b[0m                            Traceback (most recent call last)",
      "Cell \u001b[0;32mIn[85], line 1\u001b[0m\n\u001b[0;32m----> 1\u001b[0m X3_train \u001b[39m=\u001b[39m X2_train\u001b[39m.\u001b[39;49mdrop([\u001b[39m'\u001b[39m\u001b[39mtempo\u001b[39m\u001b[39m'\u001b[39m,\u001b[39m'\u001b[39m\u001b[39mspeechiness\u001b[39m\u001b[39m'\u001b[39m,\u001b[39m'\u001b[39m\u001b[39menergy\u001b[39m\u001b[39m'\u001b[39m, \u001b[39m'\u001b[39m\u001b[39msections\u001b[39m\u001b[39m'\u001b[39m], axis \u001b[39m=\u001b[39m \u001b[39m1\u001b[39m) \u001b[39m#mode, key to be dropped here\u001b[39;00m\n\u001b[1;32m      2\u001b[0m X3_test \u001b[39m=\u001b[39m X2_test\u001b[39m.\u001b[39mdrop([\u001b[39m'\u001b[39m\u001b[39mtempo\u001b[39m\u001b[39m'\u001b[39m,\u001b[39m'\u001b[39m\u001b[39mspeechiness\u001b[39m\u001b[39m'\u001b[39m,\u001b[39m'\u001b[39m\u001b[39menergy\u001b[39m\u001b[39m'\u001b[39m, \u001b[39m'\u001b[39m\u001b[39msections\u001b[39m\u001b[39m'\u001b[39m], axis \u001b[39m=\u001b[39m \u001b[39m1\u001b[39m)\n\u001b[1;32m      3\u001b[0m \u001b[39m# rlr_secondf1 = plot_model(lr, lr_Xtrain, y2_train, X2_test, y2_test)\u001b[39;00m\n",
      "\u001b[0;31mAttributeError\u001b[0m: 'numpy.ndarray' object has no attribute 'drop'"
     ]
    }
   ],
   "source": [
    "# X3_train = X2_train.drop(['tempo','speechiness','energy', 'sections'], axis = 1) #mode, key to be dropped here\n",
    "# X3_test = X2_test.drop(['tempo','speechiness','energy', 'sections'], axis = 1)\n",
    "# rlr_secondf1 = plot_model(lr, lr_Xtrain, y2_train, X2_test, y2_test)\n"
   ]
  },
  {
   "cell_type": "code",
   "execution_count": null,
   "metadata": {},
   "outputs": [
    {
     "name": "stdout",
     "output_type": "stream",
     "text": [
      "The base LR accuracy is: 0.76808\n",
      "The base LR f1 is: 0.7803\n",
      "The base LR precision is: 0.73077\n",
      "The base LR recall is: 0.83792\n",
      "Precision: 0.7391, Recall: 0.8469, Accuracy: 0.7773\n",
      "train error 0.8055212637838493 test error 0.7769693107027306\n",
      "y pred proba  [1 0 0 ... 1 0 1]\n",
      "Precision: 0.7444, Recall: 0.8440, Accuracy: 0.7787, f1: 0.7911\n",
      "AUC: 0.8571\n"
     ]
    },
    {
     "data": {
      "image/png": "[encoded data removed]",
      "text/plain": [
       "<Figure size 700x500 with 1 Axes>"
      ]
     },
     "metadata": {},
     "output_type": "display_data"
    },
    {
     "data": {
      "image/png": "[encoded data removed]",
      "text/plain": [
       "<Figure size 700x500 with 2 Axes>"
      ]
     },
     "metadata": {},
     "output_type": "display_data"
    }
   ],
   "source": [
    "import pickle\n",
    "# plot_model(xgb2, X3_train, y2_train, X3_test, y2_test)\n",
    "plot_model(xgb2, X2_train, y2_train, X2_test, y2_test)\n",
    "# pickle.dump(xgb2, open('xgb_model.pkl', 'wb')) --- ONLY UNCOMMENT IF MODEL CHANGES\n"
   ]
  },
  {
   "cell_type": "code",
   "execution_count": null,
   "metadata": {},
   "outputs": [],
   "source": [
    "xgb_model_loaded = pickle.load(open('xgb_model.pkl', 'rb'))\n"
   ]
  },
  {
   "cell_type": "code",
   "execution_count": null,
   "metadata": {},
   "outputs": [
    {
     "ename": "NameError",
     "evalue": "name 'X3_train' is not defined",
     "output_type": "error",
     "traceback": [
      "\u001b[0;31m---------------------------------------------------------------------------\u001b[0m",
      "\u001b[0;31mNameError\u001b[0m                                 Traceback (most recent call last)",
      "Cell \u001b[0;32mIn[94], line 1\u001b[0m\n\u001b[0;32m----> 1\u001b[0m plot_model(xgb2, X3_train, y2_train, X3_test, y2_test, \u001b[39m0.66\u001b[39m) \u001b[39m# changing threshold to 0.66 for more precision\u001b[39;00m\n",
      "\u001b[0;31mNameError\u001b[0m: name 'X3_train' is not defined"
     ]
    }
   ],
   "source": [
    "# plot_model(xgb2, X3_train, y2_train, X3_test, y2_test, 0.66) # changing threshold to 0.66 for more precision"
   ]
  },
  {
   "cell_type": "code",
   "execution_count": null,
   "metadata": {},
   "outputs": [],
   "source": [
    "# Create DF for predicted prob/outcomes and merge back to orig df\n",
    "y_pred_prob_df['row_num']= np.arange(len(y_pred_prob_df))\n",
    "\n",
    "# y_pred_df['row_num']= np.arange(len(y_pred_df))\n",
    "# X_test['row_num']= np.arange(len(X_test))\n",
    "y_test_df = y_test.to_frame()\n",
    "y_test_df['m_index'] = y_test_df.index\n",
    "#y_test_df2=y_test_df.rename_axis('m_index')\n",
    "y_test_df['row_num']= np.arange(len(y_test_df))\n"
   ]
  },
  {
   "cell_type": "code",
   "execution_count": null,
   "metadata": {},
   "outputs": [
    {
     "ename": "TypeError",
     "evalue": "Can only merge Series or DataFrame objects, a <class 'numpy.ndarray'> was passed",
     "output_type": "error",
     "traceback": [
      "\u001b[0;31m---------------------------------------------------------------------------\u001b[0m",
      "\u001b[0;31mTypeError\u001b[0m                                 Traceback (most recent call last)",
      "Cell \u001b[0;32mIn[117], line 3\u001b[0m\n\u001b[1;32m      1\u001b[0m \u001b[39mfrom\u001b[39;00m \u001b[39mfunctools\u001b[39;00m \u001b[39mimport\u001b[39;00m reduce\n\u001b[1;32m      2\u001b[0m data_frames\u001b[39m=\u001b[39m[X_test,y_test_df,y_pred_df,y_pred_prob_df]\n\u001b[0;32m----> 3\u001b[0m m_results \u001b[39m=\u001b[39m reduce(\u001b[39mlambda\u001b[39;49;00m left,right: pd\u001b[39m.\u001b[39;49mmerge(left,right,on\u001b[39m=\u001b[39;49m[\u001b[39m'\u001b[39;49m\u001b[39mrow_num\u001b[39;49m\u001b[39m'\u001b[39;49m], how\u001b[39m=\u001b[39;49m\u001b[39m'\u001b[39;49m\u001b[39mouter\u001b[39;49m\u001b[39m'\u001b[39;49m),data_frames)\n",
      "Cell \u001b[0;32mIn[117], line 3\u001b[0m, in \u001b[0;36m<lambda>\u001b[0;34m(left, right)\u001b[0m\n\u001b[1;32m      1\u001b[0m \u001b[39mfrom\u001b[39;00m \u001b[39mfunctools\u001b[39;00m \u001b[39mimport\u001b[39;00m reduce\n\u001b[1;32m      2\u001b[0m data_frames\u001b[39m=\u001b[39m[X_test,y_test_df,y_pred_df,y_pred_prob_df]\n\u001b[0;32m----> 3\u001b[0m m_results \u001b[39m=\u001b[39m reduce(\u001b[39mlambda\u001b[39;00m left,right: pd\u001b[39m.\u001b[39;49mmerge(left,right,on\u001b[39m=\u001b[39;49m[\u001b[39m'\u001b[39;49m\u001b[39mrow_num\u001b[39;49m\u001b[39m'\u001b[39;49m], how\u001b[39m=\u001b[39;49m\u001b[39m'\u001b[39;49m\u001b[39mouter\u001b[39;49m\u001b[39m'\u001b[39;49m),data_frames)\n",
      "File \u001b[0;32m/Library/Frameworks/Python.framework/Versions/3.11/lib/python3.11/site-packages/pandas/core/reshape/merge.py:110\u001b[0m, in \u001b[0;36mmerge\u001b[0;34m(left, right, how, on, left_on, right_on, left_index, right_index, sort, suffixes, copy, indicator, validate)\u001b[0m\n\u001b[1;32m     93\u001b[0m \u001b[39m@Substitution\u001b[39m(\u001b[39m\"\u001b[39m\u001b[39m\\n\u001b[39;00m\u001b[39mleft : DataFrame or named Series\u001b[39m\u001b[39m\"\u001b[39m)\n\u001b[1;32m     94\u001b[0m \u001b[39m@Appender\u001b[39m(_merge_doc, indents\u001b[39m=\u001b[39m\u001b[39m0\u001b[39m)\n\u001b[1;32m     95\u001b[0m \u001b[39mdef\u001b[39;00m \u001b[39mmerge\u001b[39m(\n\u001b[0;32m   (...)\u001b[0m\n\u001b[1;32m    108\u001b[0m     validate: \u001b[39mstr\u001b[39m \u001b[39m|\u001b[39m \u001b[39mNone\u001b[39;00m \u001b[39m=\u001b[39m \u001b[39mNone\u001b[39;00m,\n\u001b[1;32m    109\u001b[0m ) \u001b[39m-\u001b[39m\u001b[39m>\u001b[39m DataFrame:\n\u001b[0;32m--> 110\u001b[0m     op \u001b[39m=\u001b[39m _MergeOperation(\n\u001b[1;32m    111\u001b[0m         left,\n\u001b[1;32m    112\u001b[0m         right,\n\u001b[1;32m    113\u001b[0m         how\u001b[39m=\u001b[39;49mhow,\n\u001b[1;32m    114\u001b[0m         on\u001b[39m=\u001b[39;49mon,\n\u001b[1;32m    115\u001b[0m         left_on\u001b[39m=\u001b[39;49mleft_on,\n\u001b[1;32m    116\u001b[0m         right_on\u001b[39m=\u001b[39;49mright_on,\n\u001b[1;32m    117\u001b[0m         left_index\u001b[39m=\u001b[39;49mleft_index,\n\u001b[1;32m    118\u001b[0m         right_index\u001b[39m=\u001b[39;49mright_index,\n\u001b[1;32m    119\u001b[0m         sort\u001b[39m=\u001b[39;49msort,\n\u001b[1;32m    120\u001b[0m         suffixes\u001b[39m=\u001b[39;49msuffixes,\n\u001b[1;32m    121\u001b[0m         indicator\u001b[39m=\u001b[39;49mindicator,\n\u001b[1;32m    122\u001b[0m         validate\u001b[39m=\u001b[39;49mvalidate,\n\u001b[1;32m    123\u001b[0m     )\n\u001b[1;32m    124\u001b[0m     \u001b[39mreturn\u001b[39;00m op\u001b[39m.\u001b[39mget_result(copy\u001b[39m=\u001b[39mcopy)\n",
      "File \u001b[0;32m/Library/Frameworks/Python.framework/Versions/3.11/lib/python3.11/site-packages/pandas/core/reshape/merge.py:644\u001b[0m, in \u001b[0;36m_MergeOperation.__init__\u001b[0;34m(self, left, right, how, on, left_on, right_on, axis, left_index, right_index, sort, suffixes, indicator, validate)\u001b[0m\n\u001b[1;32m    628\u001b[0m \u001b[39mdef\u001b[39;00m \u001b[39m__init__\u001b[39m(\n\u001b[1;32m    629\u001b[0m     \u001b[39mself\u001b[39m,\n\u001b[1;32m    630\u001b[0m     left: DataFrame \u001b[39m|\u001b[39m Series,\n\u001b[0;32m   (...)\u001b[0m\n\u001b[1;32m    642\u001b[0m     validate: \u001b[39mstr\u001b[39m \u001b[39m|\u001b[39m \u001b[39mNone\u001b[39;00m \u001b[39m=\u001b[39m \u001b[39mNone\u001b[39;00m,\n\u001b[1;32m    643\u001b[0m ) \u001b[39m-\u001b[39m\u001b[39m>\u001b[39m \u001b[39mNone\u001b[39;00m:\n\u001b[0;32m--> 644\u001b[0m     _left \u001b[39m=\u001b[39m _validate_operand(left)\n\u001b[1;32m    645\u001b[0m     _right \u001b[39m=\u001b[39m _validate_operand(right)\n\u001b[1;32m    646\u001b[0m     \u001b[39mself\u001b[39m\u001b[39m.\u001b[39mleft \u001b[39m=\u001b[39m \u001b[39mself\u001b[39m\u001b[39m.\u001b[39morig_left \u001b[39m=\u001b[39m _left\n",
      "File \u001b[0;32m/Library/Frameworks/Python.framework/Versions/3.11/lib/python3.11/site-packages/pandas/core/reshape/merge.py:2426\u001b[0m, in \u001b[0;36m_validate_operand\u001b[0;34m(obj)\u001b[0m\n\u001b[1;32m   2424\u001b[0m         \u001b[39mreturn\u001b[39;00m obj\u001b[39m.\u001b[39mto_frame()\n\u001b[1;32m   2425\u001b[0m \u001b[39melse\u001b[39;00m:\n\u001b[0;32m-> 2426\u001b[0m     \u001b[39mraise\u001b[39;00m \u001b[39mTypeError\u001b[39;00m(\n\u001b[1;32m   2427\u001b[0m         \u001b[39mf\u001b[39m\u001b[39m\"\u001b[39m\u001b[39mCan only merge Series or DataFrame objects, a \u001b[39m\u001b[39m{\u001b[39;00m\u001b[39mtype\u001b[39m(obj)\u001b[39m}\u001b[39;00m\u001b[39m was passed\u001b[39m\u001b[39m\"\u001b[39m\n\u001b[1;32m   2428\u001b[0m     )\n",
      "\u001b[0;31mTypeError\u001b[0m: Can only merge Series or DataFrame objects, a <class 'numpy.ndarray'> was passed"
     ]
    }
   ],
   "source": [
    "from functools import reduce\n",
    "data_frames=[X_test,y_test_df,y_pred_df,y_pred_prob_df]\n",
    "m_results = reduce(lambda left,right: pd.merge(left,right,on=['row_num'], how='outer'),data_frames)"
   ]
  },
  {
   "cell_type": "code",
   "execution_count": null,
   "metadata": {},
   "outputs": [],
   "source": [
    "m_results.head(10)"
   ]
  },
  {
   "cell_type": "code",
   "execution_count": null,
   "metadata": {},
   "outputs": [],
   "source": [
    "df['m_index'] = df.index\n",
    "final_df = pd.merge(df,m_results,left_on='m_index',right_on='m_index')"
   ]
  },
  {
   "cell_type": "code",
   "execution_count": null,
   "metadata": {},
   "outputs": [],
   "source": [
    "final_df.head()"
   ]
  },
  {
   "cell_type": "code",
   "execution_count": null,
   "metadata": {},
   "outputs": [],
   "source": [
    "final_df.to_csv(r'sb_final_df.csv', index = False)"
   ]
  },
  {
   "cell_type": "code",
   "execution_count": null,
   "metadata": {},
   "outputs": [],
   "source": [
    "hit_predict = xgb2.predict(X3_test) #not sure if X3_test is correct\n",
    "hit_score = xgb2.predict_proba(X3_test) #not sure if X3_test is correct\n",
    "print(f'prediction: {hit_predict[0]} \\nprobability of yay: {hit_score[0][1]}\\nprobability of nay: {hit_score[0][0]}')\n"
   ]
  }
 ],
 "metadata": {
  "kernelspec": {
   "display_name": "Python 3",
   "language": "python",
   "name": "python3"
  },
  "language_info": {
   "codemirror_mode": {
    "name": "ipython",
    "version": 3
   },
   "file_extension": ".py",
   "mimetype": "text/x-python",
   "name": "python",
   "nbconvert_exporter": "python",
   "pygments_lexer": "ipython3",
   "version": "3.11.2"
  },
  "orig_nbformat": 4
 },
 "nbformat": 4,
 "nbformat_minor": 2
}
