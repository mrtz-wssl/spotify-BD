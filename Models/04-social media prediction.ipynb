{
 "cells": [
  {
   "attachments": {},
   "cell_type": "markdown",
   "metadata": {},
   "source": [
    "# Creating model to predict Social Media Success"
   ]
  },
  {
   "attachments": {},
   "cell_type": "markdown",
   "metadata": {},
   "source": [
    "## 1) Prepare data"
   ]
  },
  {
   "cell_type": "code",
   "execution_count": 21,
   "metadata": {},
   "outputs": [],
   "source": [
    "#import functions\n",
    "import pandas as pd\n",
    "import numpy as np\n",
    "import matplotlib.pyplot as plt\n",
    "import seaborn as sns\n",
    "import xgboost as xgb  \n",
    "from sklearn.ensemble import RandomForestClassifier\n",
    "from sklearn.model_selection import train_test_split\n",
    "from sklearn.metrics import mean_squared_error, mean_absolute_percentage_error\n",
    "from sklearn.preprocessing import StandardScaler"
   ]
  },
  {
   "cell_type": "code",
   "execution_count": 22,
   "metadata": {},
   "outputs": [],
   "source": [
    "data = pd.read_csv('TikTokSpotifyMerged.csv')"
   ]
  },
  {
   "cell_type": "code",
   "execution_count": 23,
   "metadata": {},
   "outputs": [
    {
     "name": "stdout",
     "output_type": "stream",
     "text": [
      "<class 'pandas.core.frame.DataFrame'>\n",
      "RangeIndex: 43808 entries, 0 to 43807\n",
      "Data columns (total 15 columns):\n",
      " #   Column             Non-Null Count  Dtype  \n",
      "---  ------             --------------  -----  \n",
      " 0   sm_target          43808 non-null  float64\n",
      " 1   duration_ms        43808 non-null  float64\n",
      " 2   danceability       43808 non-null  float64\n",
      " 3   energy             43808 non-null  float64\n",
      " 4   key                43808 non-null  object \n",
      " 5   loudness           43808 non-null  float64\n",
      " 6   mode               43808 non-null  object \n",
      " 7   speechiness        43808 non-null  float64\n",
      " 8   acousticness       43808 non-null  float64\n",
      " 9   instrumentalness   43808 non-null  float64\n",
      " 10  liveness           43808 non-null  float64\n",
      " 11  valence            43808 non-null  float64\n",
      " 12  tempo              43808 non-null  float64\n",
      " 13  era                43808 non-null  object \n",
      " 14  main_parent_genre  43808 non-null  object \n",
      "dtypes: float64(11), object(4)\n",
      "memory usage: 5.0+ MB\n"
     ]
    }
   ],
   "source": [
    "# Transform the data to prepare it for usage in a machine learning model\n",
    "\n",
    "# Clean duplicates based on track_id and popularity\n",
    "#data = tik.drop_duplicates(subset=['track_id', 'popularity'], keep='first')\n",
    "\n",
    "# Drop unnecessary columns\n",
    "data = data.drop(['track_id',\"target\", \"popularity\", \"target\", \"sections\", \"chorus_hit\", \"time_signature\" ], axis=1)\n",
    "data = data.drop(['tiktok', 'artist', 'spotify', \"track\"], axis=1)\n",
    "data.info()\n",
    "\n",
    "data = pd.get_dummies(data)"
   ]
  },
  {
   "attachments": {},
   "cell_type": "markdown",
   "metadata": {},
   "source": [
    "## 2) Run Random Forest Classifier"
   ]
  },
  {
   "attachments": {},
   "cell_type": "markdown",
   "metadata": {},
   "source": [
    "### 2.1) Without Optimization"
   ]
  },
  {
   "cell_type": "code",
   "execution_count": 24,
   "metadata": {},
   "outputs": [
    {
     "data": {
      "text/plain": [
       "RandomForestClassifier(random_state=42)"
      ]
     },
     "execution_count": 24,
     "metadata": {},
     "output_type": "execute_result"
    }
   ],
   "source": [
    "# Split your dataframe into features (X) and target variable (y)\n",
    "X = data.drop('sm_target', axis=1) # assuming all other columns are features\n",
    "y = data['sm_target']\n",
    "\n",
    "# Split your data into training and test datasets\n",
    "X_train, X_test, y_train, y_test = train_test_split(X, y, test_size=0.3, random_state=42)\n",
    "\n",
    "\n",
    "# Standardize your features because some models perform better with standardized data\n",
    "scaler = StandardScaler()\n",
    "X_train = scaler.fit_transform(X_train)\n",
    "X_test = scaler.transform(X_test)\n",
    "\n",
    "\n",
    "# Define the classifier and fit it to your data\n",
    "randomforest = RandomForestClassifier(n_estimators=100, random_state=42)\n",
    "randomforest.fit(X_train, y_train)"
   ]
  },
  {
   "cell_type": "code",
   "execution_count": 25,
   "metadata": {},
   "outputs": [
    {
     "name": "stdout",
     "output_type": "stream",
     "text": [
      "Accuracy: 0.9587613178117629\n",
      "Confusion Matrix:\n",
      " [[12300   110]\n",
      " [  432   301]]\n",
      "Classification Report:\n",
      "               precision    recall  f1-score   support\n",
      "\n",
      "         0.0       0.97      0.99      0.98     12410\n",
      "         1.0       0.73      0.41      0.53       733\n",
      "\n",
      "    accuracy                           0.96     13143\n",
      "   macro avg       0.85      0.70      0.75     13143\n",
      "weighted avg       0.95      0.96      0.95     13143\n",
      "\n"
     ]
    }
   ],
   "source": [
    "# Predict the labels for the test set\n",
    "from sklearn.metrics import accuracy_score, confusion_matrix, classification_report\n",
    "\n",
    "y_pred = randomforest.predict(X_test)\n",
    "\n",
    "# Evaluate the classifier\n",
    "print('Accuracy:', accuracy_score(y_test, y_pred))\n",
    "print('Confusion Matrix:\\n', confusion_matrix(y_test, y_pred))\n",
    "print('Classification Report:\\n', classification_report(y_test, y_pred))"
   ]
  },
  {
   "attachments": {},
   "cell_type": "markdown",
   "metadata": {},
   "source": [
    "### 2.2) With Optimization"
   ]
  },
  {
   "cell_type": "code",
   "execution_count": 26,
   "metadata": {},
   "outputs": [
    {
     "name": "stdout",
     "output_type": "stream",
     "text": [
      "Best parameters:  {'max_depth': None, 'min_samples_leaf': 1, 'min_samples_split': 14, 'n_estimators': 600}\n",
      "Best score:  0.956367193869232\n"
     ]
    },
    {
     "data": {
      "text/plain": [
       "RandomForestClassifier(class_weight='balanced', min_samples_split=14,\n",
       "                       n_estimators=600)"
      ]
     },
     "execution_count": 26,
     "metadata": {},
     "output_type": "execute_result"
    }
   ],
   "source": [
    "from sklearn.model_selection import GridSearchCV\n",
    "\n",
    "# Define the parameter grid for grid search\n",
    "param_grid = {\n",
    "    'n_estimators': [400, 600, 800],\n",
    "    'max_depth': [None],\n",
    "    'min_samples_split': [11, 12, 14],\n",
    "    'min_samples_leaf': [1]\n",
    "}\n",
    "\n",
    "# Create the grid search object\n",
    "grid_search = GridSearchCV(estimator=randomforest, param_grid=param_grid, cv=5)\n",
    "\n",
    "# Fit the grid search to the training data\n",
    "grid_search.fit(X_train, y_train)\n",
    "\n",
    "# Get the best parameters and best score\n",
    "best_params = grid_search.best_params_\n",
    "best_score = grid_search.best_score_\n",
    "\n",
    "# Print the best parameters and best score\n",
    "print(\"Best parameters: \", best_params)\n",
    "print(\"Best score: \", best_score)\n",
    "\n",
    "# Use the best parameters to create a new random forest classifier\n",
    "best_randomforest = RandomForestClassifier(**best_params, class_weight='balanced')\n",
    "best_randomforest.fit(X_train, y_train)"
   ]
  },
  {
   "cell_type": "code",
   "execution_count": 27,
   "metadata": {},
   "outputs": [
    {
     "name": "stdout",
     "output_type": "stream",
     "text": [
      "Accuracy: 0.9415658525450811\n",
      "Confusion Matrix:\n",
      " [[11849   561]\n",
      " [  207   526]]\n",
      "Classification Report:\n",
      "               precision    recall  f1-score   support\n",
      "\n",
      "         0.0       0.98      0.95      0.97     12410\n",
      "         1.0       0.48      0.72      0.58       733\n",
      "\n",
      "    accuracy                           0.94     13143\n",
      "   macro avg       0.73      0.84      0.77     13143\n",
      "weighted avg       0.96      0.94      0.95     13143\n",
      "\n"
     ]
    }
   ],
   "source": [
    "# Evaluate the performance on the test set\n",
    "# y_pred_best = best_randomforest.predict(X_test)\n",
    "\n",
    "# Get predicted probabilities for positive class\n",
    "y_pred_proba = best_randomforest.predict_proba(X_test)[:, 1]\n",
    "\n",
    "# Set custom threshold\n",
    "custom_threshold = 0.4\n",
    "\n",
    "# Generate predictions based on custom threshold\n",
    "y_pred_custom = (y_pred_proba > custom_threshold).astype(int)\n",
    "\n",
    "print('Accuracy:', accuracy_score(y_test, y_pred_custom))\n",
    "print('Confusion Matrix:\\n', confusion_matrix(y_test, y_pred_custom))\n",
    "print('Classification Report:\\n', classification_report(y_test, y_pred_custom))"
   ]
  },
  {
   "cell_type": "code",
   "execution_count": 28,
   "metadata": {},
   "outputs": [],
   "source": [
    "import pickle\n",
    "\n",
    "# Save the trained random forest classifier to a file\n",
    "filename = 'SM_model.pkl'\n",
    "pickle.dump(best_randomforest, open(filename, 'wb'))"
   ]
  },
  {
   "attachments": {},
   "cell_type": "markdown",
   "metadata": {},
   "source": [
    "## 3) Run Logistic Regression"
   ]
  },
  {
   "cell_type": "code",
   "execution_count": 29,
   "metadata": {},
   "outputs": [],
   "source": [
    "from sklearn.linear_model import LogisticRegression"
   ]
  },
  {
   "cell_type": "code",
   "execution_count": 30,
   "metadata": {},
   "outputs": [
    {
     "name": "stdout",
     "output_type": "stream",
     "text": [
      "              precision    recall  f1-score   support\n",
      "\n",
      "         0.0       0.94      1.00      0.97     20667\n",
      "         1.0       0.00      0.00      0.00      1237\n",
      "\n",
      "    accuracy                           0.94     21904\n",
      "   macro avg       0.47      0.50      0.49     21904\n",
      "weighted avg       0.89      0.94      0.92     21904\n",
      "\n"
     ]
    },
    {
     "name": "stderr",
     "output_type": "stream",
     "text": [
      "/Users/audrey/opt/anaconda3/lib/python3.9/site-packages/sklearn/metrics/_classification.py:1318: UndefinedMetricWarning: Precision and F-score are ill-defined and being set to 0.0 in labels with no predicted samples. Use `zero_division` parameter to control this behavior.\n",
      "  _warn_prf(average, modifier, msg_start, len(result))\n",
      "/Users/audrey/opt/anaconda3/lib/python3.9/site-packages/sklearn/metrics/_classification.py:1318: UndefinedMetricWarning: Precision and F-score are ill-defined and being set to 0.0 in labels with no predicted samples. Use `zero_division` parameter to control this behavior.\n",
      "  _warn_prf(average, modifier, msg_start, len(result))\n",
      "/Users/audrey/opt/anaconda3/lib/python3.9/site-packages/sklearn/metrics/_classification.py:1318: UndefinedMetricWarning: Precision and F-score are ill-defined and being set to 0.0 in labels with no predicted samples. Use `zero_division` parameter to control this behavior.\n",
      "  _warn_prf(average, modifier, msg_start, len(result))\n"
     ]
    }
   ],
   "source": [
    "X = data.drop('sm_target', axis=1) # assuming all other columns are features\n",
    "y = data['sm_target']\n",
    "\n",
    "# Split your data into training and test datasets\n",
    "X_train, X_test, y_train, y_test = train_test_split(X, y, test_size=0.5, random_state=42)\n",
    "\n",
    "# Scale the input features using StandardScaler\n",
    "scaler = StandardScaler()\n",
    "X_train_scaled = scaler.fit_transform(X_train)\n",
    "X_test_scaled = scaler.transform(X_test)\n",
    "\n",
    "# Create and train the logistic regression model\n",
    "logreg = LogisticRegression()\n",
    "logreg.fit(X_train, y_train)\n",
    "\n",
    "# Make predictions on the testing set\n",
    "y_pred = logreg.predict(X_test)\n",
    "\n",
    "# Evaluate the model\n",
    "print(classification_report(y_test, y_pred))"
   ]
  },
  {
   "attachments": {},
   "cell_type": "markdown",
   "metadata": {},
   "source": [
    "## 4) Run Decision Tree Classifier"
   ]
  },
  {
   "cell_type": "code",
   "execution_count": 31,
   "metadata": {},
   "outputs": [],
   "source": [
    "from sklearn.tree import DecisionTreeClassifier\n",
    "from sklearn.metrics import classification_report"
   ]
  },
  {
   "cell_type": "code",
   "execution_count": 32,
   "metadata": {},
   "outputs": [
    {
     "name": "stdout",
     "output_type": "stream",
     "text": [
      "              precision    recall  f1-score   support\n",
      "\n",
      "         0.0       0.97      0.97      0.97     12410\n",
      "         1.0       0.46      0.47      0.47       733\n",
      "\n",
      "    accuracy                           0.94     13143\n",
      "   macro avg       0.71      0.72      0.72     13143\n",
      "weighted avg       0.94      0.94      0.94     13143\n",
      "\n"
     ]
    }
   ],
   "source": [
    "X = data.drop('sm_target', axis=1) # assuming all other columns are features\n",
    "y = data['sm_target']\n",
    "\n",
    "# Split your data into training and test datasets\n",
    "X_train, X_test, y_train, y_test = train_test_split(X, y, test_size=0.3, random_state=42)\n",
    "\n",
    "# Scale the input features using StandardScaler\n",
    "scaler = StandardScaler()\n",
    "X_train_scaled = scaler.fit_transform(X_train)\n",
    "X_test_scaled = scaler.transform(X_test)\n",
    "\n",
    "# Create and train the decision tree classifier\n",
    "dt = DecisionTreeClassifier()\n",
    "dt.fit(X_train, y_train)\n",
    "\n",
    "# Make predictions on the testing set\n",
    "y_pred = dt.predict(X_test)\n",
    "\n",
    "# Evaluate the model\n",
    "print(classification_report(y_test, y_pred))"
   ]
  },
  {
   "attachments": {},
   "cell_type": "markdown",
   "metadata": {},
   "source": [
    "## 5) Run XGB Classifier"
   ]
  },
  {
   "cell_type": "code",
   "execution_count": 33,
   "metadata": {},
   "outputs": [],
   "source": [
    "from xgboost import XGBClassifier"
   ]
  },
  {
   "cell_type": "code",
   "execution_count": 34,
   "metadata": {},
   "outputs": [
    {
     "name": "stdout",
     "output_type": "stream",
     "text": [
      "              precision    recall  f1-score   support\n",
      "\n",
      "         0.0       0.97      0.99      0.98     12410\n",
      "         1.0       0.66      0.42      0.51       733\n",
      "\n",
      "    accuracy                           0.96     13143\n",
      "   macro avg       0.81      0.70      0.74     13143\n",
      "weighted avg       0.95      0.96      0.95     13143\n",
      "\n"
     ]
    }
   ],
   "source": [
    "X = data.drop('sm_target', axis=1) # assuming all other columns are features\n",
    "y = data['sm_target']\n",
    "\n",
    "# Split your data into training and test datasets\n",
    "X_train, X_test, y_train, y_test = train_test_split(X, y, test_size=0.3, random_state=42)\n",
    "\n",
    "# Scale the input features using StandardScaler\n",
    "scaler = StandardScaler()\n",
    "X_train_scaled = scaler.fit_transform(X_train)\n",
    "X_test_scaled = scaler.transform(X_test)\n",
    "\n",
    "# Create and train the XGBoost classifier\n",
    "xgb = XGBClassifier()\n",
    "xgb.fit(X_train, y_train)\n",
    "\n",
    "# Make predictions on the testing set\n",
    "y_pred = xgb.predict(X_test)\n",
    "\n",
    "# Evaluate the model\n",
    "print(classification_report(y_test, y_pred))"
   ]
  }
 ],
 "metadata": {
  "kernelspec": {
   "display_name": "base",
   "language": "python",
   "name": "python3"
  },
  "language_info": {
   "codemirror_mode": {
    "name": "ipython",
    "version": 3
   },
   "file_extension": ".py",
   "mimetype": "text/x-python",
   "name": "python",
   "nbconvert_exporter": "python",
   "pygments_lexer": "ipython3",
   "version": "3.9.13"
  },
  "orig_nbformat": 4
 },
 "nbformat": 4,
 "nbformat_minor": 2
}
