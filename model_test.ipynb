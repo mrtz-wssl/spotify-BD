{
 "cells": [
  {
   "cell_type": "code",
   "execution_count": 1,
   "metadata": {},
   "outputs": [],
   "source": [
    "import pandas as pd\n",
    "import numpy as np\n",
    "import matplotlib.pyplot as plt\n"
   ]
  },
  {
   "cell_type": "code",
   "execution_count": 2,
   "metadata": {},
   "outputs": [],
   "source": [
    "df = pd.read_csv('TikTokSpotifyMerged.csv') "
   ]
  },
  {
   "cell_type": "code",
   "execution_count": 3,
   "metadata": {},
   "outputs": [
    {
     "name": "stdout",
     "output_type": "stream",
     "text": [
      "<class 'pandas.core.frame.DataFrame'>\n",
      "RangeIndex: 43808 entries, 0 to 43807\n",
      "Data columns (total 25 columns):\n",
      " #   Column             Non-Null Count  Dtype  \n",
      "---  ------             --------------  -----  \n",
      " 0   track_id           43808 non-null  object \n",
      " 1   time_signature     40560 non-null  float64\n",
      " 2   chorus_hit         40560 non-null  float64\n",
      " 3   sections           40560 non-null  float64\n",
      " 4   target             40560 non-null  float64\n",
      " 5   popularity         3560 non-null   float64\n",
      " 6   sm_target          43808 non-null  float64\n",
      " 7   tiktok             43808 non-null  int64  \n",
      " 8   spotify            43808 non-null  int64  \n",
      " 9   track              43808 non-null  object \n",
      " 10  artist             43808 non-null  object \n",
      " 11  duration_ms        43808 non-null  float64\n",
      " 12  danceability       43808 non-null  float64\n",
      " 13  energy             43808 non-null  float64\n",
      " 14  key                43808 non-null  object \n",
      " 15  loudness           43808 non-null  float64\n",
      " 16  mode               43808 non-null  object \n",
      " 17  speechiness        43808 non-null  float64\n",
      " 18  acousticness       43808 non-null  float64\n",
      " 19  instrumentalness   43808 non-null  float64\n",
      " 20  liveness           43808 non-null  float64\n",
      " 21  valence            43808 non-null  float64\n",
      " 22  tempo              43808 non-null  float64\n",
      " 23  era                43808 non-null  object \n",
      " 24  main_parent_genre  43808 non-null  object \n",
      "dtypes: float64(16), int64(2), object(7)\n",
      "memory usage: 8.4+ MB\n"
     ]
    }
   ],
   "source": [
    "df.info(\n",
    ")"
   ]
  },
  {
   "cell_type": "code",
   "execution_count": 5,
   "metadata": {},
   "outputs": [
    {
     "name": "stdout",
     "output_type": "stream",
     "text": [
      "0.0    0.506484\n",
      "1.0    0.493516\n",
      "Name: target, dtype: float64\n"
     ]
    }
   ],
   "source": [
    "# Anteil der Songs bei denen Target = 0 ist\n",
    "print(df['target'].value_counts(normalize=True))"
   ]
  },
  {
   "cell_type": "code",
   "execution_count": null,
   "metadata": {},
   "outputs": [],
   "source": []
  }
 ],
 "metadata": {
  "kernelspec": {
   "display_name": "base",
   "language": "python",
   "name": "python3"
  },
  "language_info": {
   "codemirror_mode": {
    "name": "ipython",
    "version": 3
   },
   "file_extension": ".py",
   "mimetype": "text/x-python",
   "name": "python",
   "nbconvert_exporter": "python",
   "pygments_lexer": "ipython3",
   "version": "3.9.13"
  },
  "orig_nbformat": 4
 },
 "nbformat": 4,
 "nbformat_minor": 2
}
