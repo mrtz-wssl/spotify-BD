{
 "cells": [
  {
   "cell_type": "code",
   "execution_count": 1,
   "metadata": {},
   "outputs": [],
   "source": [
    "import pandas as pd\n",
    "import numpy as np\n",
    "import matplotlib.pyplot as plt\n"
   ]
  },
  {
   "cell_type": "code",
   "execution_count": 2,
   "metadata": {},
   "outputs": [],
   "source": [
    "df = pd.read_csv('TikTokSpotifyMerged.csv') "
   ]
  },
  {
   "cell_type": "code",
   "execution_count": 3,
   "metadata": {},
   "outputs": [
    {
     "name": "stdout",
     "output_type": "stream",
     "text": [
      "<class 'pandas.core.frame.DataFrame'>\n",
      "RangeIndex: 43808 entries, 0 to 43807\n",
      "Data columns (total 25 columns):\n",
      " #   Column             Non-Null Count  Dtype  \n",
      "---  ------             --------------  -----  \n",
      " 0   track_id           43808 non-null  object \n",
      " 1   time_signature     40560 non-null  float64\n",
      " 2   chorus_hit         40560 non-null  float64\n",
      " 3   sections           40560 non-null  float64\n",
      " 4   target             40560 non-null  float64\n",
      " 5   popularity         3560 non-null   float64\n",
      " 6   sm_target          43808 non-null  float64\n",
      " 7   tiktok             43808 non-null  int64  \n",
      " 8   spotify            43808 non-null  int64  \n",
      " 9   track              43808 non-null  object \n",
      " 10  artist             43808 non-null  object \n",
      " 11  duration_ms        43808 non-null  float64\n",
      " 12  danceability       43808 non-null  float64\n",
      " 13  energy             43808 non-null  float64\n",
      " 14  key                43808 non-null  object \n",
      " 15  loudness           43808 non-null  float64\n",
      " 16  mode               43808 non-null  object \n",
      " 17  speechiness        43808 non-null  float64\n",
      " 18  acousticness       43808 non-null  float64\n",
      " 19  instrumentalness   43808 non-null  float64\n",
      " 20  liveness           43808 non-null  float64\n",
      " 21  valence            43808 non-null  float64\n",
      " 22  tempo              43808 non-null  float64\n",
      " 23  era                43808 non-null  object \n",
      " 24  main_parent_genre  43808 non-null  object \n",
      "dtypes: float64(16), int64(2), object(7)\n",
      "memory usage: 8.4+ MB\n"
     ]
    }
   ],
   "source": [
    "df.info(\n",
    ")"
   ]
  },
  {
   "cell_type": "code",
   "execution_count": 5,
   "metadata": {},
   "outputs": [
    {
     "name": "stdout",
     "output_type": "stream",
     "text": [
      "0.0    0.506484\n",
      "1.0    0.493516\n",
      "Name: target, dtype: float64\n"
     ]
    }
   ],
   "source": [
    "# Anteil der Songs bei denen Target = 0 ist\n",
    "print(df['target'].value_counts(normalize=True))"
   ]
  },
  {
   "cell_type": "code",
   "execution_count": 6,
   "metadata": {},
   "outputs": [
    {
     "name": "stdout",
     "output_type": "stream",
     "text": [
      "       time_signature    chorus_hit      sections        target   popularity  \\\n",
      "count    40560.000000  40560.000000  40560.000000  40560.000000  3560.000000   \n",
      "mean         3.892825     40.133580     10.470587      0.493516    50.539326   \n",
      "std          0.424453     19.042756      4.893720      0.499964    24.731639   \n",
      "min          0.000000      0.000000      0.000000      0.000000     0.000000   \n",
      "25%          4.000000     27.617023      8.000000      0.000000    35.000000   \n",
      "50%          4.000000     35.854740     10.000000      0.000000    55.000000   \n",
      "75%          4.000000     47.659550     12.000000      1.000000    70.000000   \n",
      "max          5.000000    433.182000    169.000000      1.000000   100.000000   \n",
      "\n",
      "          sm_target        tiktok       spotify   duration_ms  danceability  \\\n",
      "count  43808.000000  43808.000000  43808.000000  4.380800e+04  43808.000000   \n",
      "mean       0.064395      0.081264      0.925858  2.315904e+05      0.552808   \n",
      "std        0.245457      0.273243      0.262004  1.167528e+05      0.182188   \n",
      "min        0.000000      0.000000      0.000000  1.516800e+04      0.000000   \n",
      "25%        0.000000      0.000000      1.000000  1.702400e+05      0.431000   \n",
      "50%        0.000000      0.000000      1.000000  2.147800e+05      0.565000   \n",
      "75%        0.000000      0.000000      1.000000  2.633070e+05      0.685000   \n",
      "max        1.000000      1.000000      1.000000  4.170227e+06      0.990000   \n",
      "\n",
      "             energy      loudness   speechiness  acousticness  \\\n",
      "count  43808.000000  43808.000000  43808.000000  43808.000000   \n",
      "mean       0.582973    -10.009834      0.077719      0.354877   \n",
      "std        0.249175      5.259406      0.091630      0.335542   \n",
      "min        0.000251    -49.253000      0.000000      0.000000   \n",
      "25%        0.404750    -12.577000      0.034100      0.038300   \n",
      "50%        0.605000     -8.990000      0.044600      0.243000   \n",
      "75%        0.786000     -6.222000      0.074900      0.657000   \n",
      "max        1.000000      3.744000      0.960000      0.996000   \n",
      "\n",
      "       instrumentalness      liveness       valence         tempo  \n",
      "count      43808.000000  43808.000000  43808.000000  43808.000000  \n",
      "mean           0.147783      0.200222      0.541262    119.470035  \n",
      "std            0.297923      0.170865      0.265419     28.890402  \n",
      "min            0.000000      0.013000      0.000000      0.000000  \n",
      "25%            0.000000      0.094100      0.331000     97.660000  \n",
      "50%            0.000091      0.131500      0.556000    118.026000  \n",
      "75%            0.045925      0.260000      0.764000    136.370000  \n",
      "max            1.000000      0.999000      0.998000    241.423000  \n"
     ]
    }
   ],
   "source": [
    "# Minimum und Maximum der Spalten\n",
    "print(df.describe())\n",
    "\n"
   ]
  },
  {
   "cell_type": "code",
   "execution_count": null,
   "metadata": {},
   "outputs": [],
   "source": []
  }
 ],
 "metadata": {
  "kernelspec": {
   "display_name": "base",
   "language": "python",
   "name": "python3"
  },
  "language_info": {
   "codemirror_mode": {
    "name": "ipython",
    "version": 3
   },
   "file_extension": ".py",
   "mimetype": "text/x-python",
   "name": "python",
   "nbconvert_exporter": "python",
   "pygments_lexer": "ipython3",
   "version": "3.9.13"
  },
  "orig_nbformat": 4
 },
 "nbformat": 4,
 "nbformat_minor": 2
}
