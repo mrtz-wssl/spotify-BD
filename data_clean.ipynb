{
 "cells": [
  {
   "attachments": {},
   "cell_type": "markdown",
   "metadata": {},
   "source": [
    "CLEAN DATA from SPOTIFY"
   ]
  },
  {
   "cell_type": "code",
   "execution_count": null,
   "metadata": {},
   "outputs": [],
   "source": [
    "import pandas as pd\n",
    "#merge 6 datasets\n",
    "df60 = pd.read_csv('dataset-of-60s.csv')\n",
    "df70 = pd.read_csv('dataset-of-70s.csv')\n",
    "df80 = pd.read_csv('dataset-of-80s.csv')\n",
    "df90 = pd.read_csv('dataset-of-90s.csv')\n",
    "df00 = pd.read_csv('dataset-of-00s.csv')\n",
    "df10 = pd.read_csv('dataset-of-10s.csv')\n",
    "\n",
    "df = pd.concat([df60, df70, df80, df90, df00, df10], ignore_index=True)\n",
    "df.drop(['uri', 'track', 'artist'], axis=1, inplace=True)\n",
    "\n",
    "print(df.head())"
   ]
  },
  {
   "cell_type": "code",
   "execution_count": null,
   "metadata": {},
   "outputs": [],
   "source": [
    "# count values of target variable called target of df\n",
    "df.value_counts\n"
   ]
  }
 ],
 "metadata": {
  "kernelspec": {
   "display_name": "Python 3",
   "language": "python",
   "name": "python3"
  },
  "language_info": {
   "name": "python",
   "version": "3.11.2"
  },
  "orig_nbformat": 4
 },
 "nbformat": 4,
 "nbformat_minor": 2
}
