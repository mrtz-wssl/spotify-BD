{
 "cells": [
  {
   "attachments": {},
   "cell_type": "markdown",
   "metadata": {},
   "source": [
    "## 1. Initialize data"
   ]
  },
  {
   "cell_type": "code",
   "execution_count": 1,
   "metadata": {},
   "outputs": [],
   "source": [
    "import pandas as pd\n",
    "import numpy as np\n",
    "import matplotlib.pyplot as plt\n",
    "import seaborn as sns\n",
    "import xgboost as xgb  \n",
    "from sklearn.ensemble import RandomForestClassifier\n",
    "from sklearn.model_selection import train_test_split\n",
    "from sklearn.metrics import mean_squared_error, mean_absolute_percentage_error\n",
    "from sklearn.preprocessing import StandardScaler\n",
    "from sklearn.metrics.pairwise import sigmoid_kernel\n",
    "from sklearn.metrics.pairwise import cosine_similarity\n",
    "from sklearn import preprocessing"
   ]
  },
  {
   "cell_type": "code",
   "execution_count": 2,
   "metadata": {},
   "outputs": [],
   "source": [
    "data = pd.read_csv('spotify_songs.csv')"
   ]
  },
  {
   "cell_type": "code",
   "execution_count": 3,
   "metadata": {},
   "outputs": [
    {
     "name": "stdout",
     "output_type": "stream",
     "text": [
      "<class 'pandas.core.frame.DataFrame'>\n",
      "RangeIndex: 40560 entries, 0 to 40559\n",
      "Data columns (total 25 columns):\n",
      " #   Column             Non-Null Count  Dtype  \n",
      "---  ------             --------------  -----  \n",
      " 0   track_id           40560 non-null  object \n",
      " 1   time_signature     40560 non-null  float64\n",
      " 2   chorus_hit         40560 non-null  float64\n",
      " 3   sections           40560 non-null  float64\n",
      " 4   target             40560 non-null  float64\n",
      " 5   popularity         312 non-null    float64\n",
      " 6   sm_target          40560 non-null  float64\n",
      " 7   tiktok             40560 non-null  int64  \n",
      " 8   spotify            40560 non-null  int64  \n",
      " 9   track              40560 non-null  object \n",
      " 10  artist             40560 non-null  object \n",
      " 11  duration_ms        40560 non-null  float64\n",
      " 12  danceability       40560 non-null  float64\n",
      " 13  energy             40560 non-null  float64\n",
      " 14  key                40560 non-null  object \n",
      " 15  loudness           40560 non-null  float64\n",
      " 16  mode               40560 non-null  object \n",
      " 17  speechiness        40560 non-null  float64\n",
      " 18  acousticness       40560 non-null  float64\n",
      " 19  instrumentalness   40560 non-null  float64\n",
      " 20  liveness           40560 non-null  float64\n",
      " 21  valence            40560 non-null  float64\n",
      " 22  tempo              40560 non-null  float64\n",
      " 23  era                40560 non-null  object \n",
      " 24  main_parent_genre  40560 non-null  object \n",
      "dtypes: float64(16), int64(2), object(7)\n",
      "memory usage: 7.7+ MB\n"
     ]
    }
   ],
   "source": [
    "data.info()"
   ]
  },
  {
   "cell_type": "code",
   "execution_count": 4,
   "metadata": {},
   "outputs": [
    {
     "name": "stdout",
     "output_type": "stream",
     "text": [
      "<class 'pandas.core.frame.DataFrame'>\n",
      "RangeIndex: 40560 entries, 0 to 40559\n",
      "Data columns (total 16 columns):\n",
      " #   Column            Non-Null Count  Dtype  \n",
      "---  ------            --------------  -----  \n",
      " 0   track_id          40560 non-null  object \n",
      " 1   time_signature    40560 non-null  float64\n",
      " 2   target            40560 non-null  float64\n",
      " 3   artist            40560 non-null  object \n",
      " 4   duration_ms       40560 non-null  float64\n",
      " 5   danceability      40560 non-null  float64\n",
      " 6   energy            40560 non-null  float64\n",
      " 7   key               40560 non-null  object \n",
      " 8   loudness          40560 non-null  float64\n",
      " 9   mode              40560 non-null  object \n",
      " 10  speechiness       40560 non-null  float64\n",
      " 11  acousticness      40560 non-null  float64\n",
      " 12  instrumentalness  40560 non-null  float64\n",
      " 13  liveness          40560 non-null  float64\n",
      " 14  valence           40560 non-null  float64\n",
      " 15  tempo             40560 non-null  float64\n",
      "dtypes: float64(12), object(4)\n",
      "memory usage: 5.0+ MB\n"
     ]
    }
   ],
   "source": [
    "data = data.drop([\"popularity\", \"era\", \"main_parent_genre\", \"sections\", \"chorus_hit\" ], axis=1)\n",
    "data = data.drop(['tiktok', \"sm_target\", 'spotify', \"track\"], axis=1)\n",
    "data.info()"
   ]
  },
  {
   "cell_type": "code",
   "execution_count": 5,
   "metadata": {},
   "outputs": [],
   "source": [
    "#data = pd.get_dummies(data)"
   ]
  },
  {
   "cell_type": "code",
   "execution_count": 6,
   "metadata": {},
   "outputs": [
    {
     "data": {
      "text/html": [
       "<div>\n",
       "<style scoped>\n",
       "    .dataframe tbody tr th:only-of-type {\n",
       "        vertical-align: middle;\n",
       "    }\n",
       "\n",
       "    .dataframe tbody tr th {\n",
       "        vertical-align: top;\n",
       "    }\n",
       "\n",
       "    .dataframe thead th {\n",
       "        text-align: right;\n",
       "    }\n",
       "</style>\n",
       "<table border=\"1\" class=\"dataframe\">\n",
       "  <thead>\n",
       "    <tr style=\"text-align: right;\">\n",
       "      <th></th>\n",
       "      <th>track_id</th>\n",
       "      <th>time_signature</th>\n",
       "      <th>target</th>\n",
       "      <th>artist</th>\n",
       "      <th>duration_ms</th>\n",
       "      <th>danceability</th>\n",
       "      <th>energy</th>\n",
       "      <th>key</th>\n",
       "      <th>loudness</th>\n",
       "      <th>mode</th>\n",
       "      <th>speechiness</th>\n",
       "      <th>acousticness</th>\n",
       "      <th>instrumentalness</th>\n",
       "      <th>liveness</th>\n",
       "      <th>valence</th>\n",
       "      <th>tempo</th>\n",
       "    </tr>\n",
       "  </thead>\n",
       "  <tbody>\n",
       "    <tr>\n",
       "      <th>0</th>\n",
       "      <td>1dtKN6wwlolkM8XZy2y9C1</td>\n",
       "      <td>3.0</td>\n",
       "      <td>1.0</td>\n",
       "      <td>Garland Green</td>\n",
       "      <td>173533.0</td>\n",
       "      <td>0.417</td>\n",
       "      <td>0.620</td>\n",
       "      <td>D# / Eb</td>\n",
       "      <td>-7.727</td>\n",
       "      <td>major</td>\n",
       "      <td>0.0403</td>\n",
       "      <td>0.490</td>\n",
       "      <td>0.000000</td>\n",
       "      <td>0.0779</td>\n",
       "      <td>0.845</td>\n",
       "      <td>185.655</td>\n",
       "    </tr>\n",
       "    <tr>\n",
       "      <th>1</th>\n",
       "      <td>5hjsmSnUefdUqzsDogisiX</td>\n",
       "      <td>4.0</td>\n",
       "      <td>0.0</td>\n",
       "      <td>Serge Gainsbourg</td>\n",
       "      <td>213613.0</td>\n",
       "      <td>0.498</td>\n",
       "      <td>0.505</td>\n",
       "      <td>D# / Eb</td>\n",
       "      <td>-12.475</td>\n",
       "      <td>major</td>\n",
       "      <td>0.0337</td>\n",
       "      <td>0.018</td>\n",
       "      <td>0.107000</td>\n",
       "      <td>0.1760</td>\n",
       "      <td>0.797</td>\n",
       "      <td>101.801</td>\n",
       "    </tr>\n",
       "    <tr>\n",
       "      <th>2</th>\n",
       "      <td>6uk8tI6pwxxdVTNlNOJeJh</td>\n",
       "      <td>4.0</td>\n",
       "      <td>0.0</td>\n",
       "      <td>Lord Melody</td>\n",
       "      <td>223960.0</td>\n",
       "      <td>0.657</td>\n",
       "      <td>0.649</td>\n",
       "      <td>F</td>\n",
       "      <td>-13.392</td>\n",
       "      <td>major</td>\n",
       "      <td>0.0380</td>\n",
       "      <td>0.846</td>\n",
       "      <td>0.000004</td>\n",
       "      <td>0.1190</td>\n",
       "      <td>0.908</td>\n",
       "      <td>115.940</td>\n",
       "    </tr>\n",
       "    <tr>\n",
       "      <th>3</th>\n",
       "      <td>7aNjMJ05FvUXACPWZ7yJmv</td>\n",
       "      <td>4.0</td>\n",
       "      <td>0.0</td>\n",
       "      <td>Celia Cruz</td>\n",
       "      <td>157907.0</td>\n",
       "      <td>0.590</td>\n",
       "      <td>0.545</td>\n",
       "      <td>G</td>\n",
       "      <td>-12.058</td>\n",
       "      <td>minor</td>\n",
       "      <td>0.1040</td>\n",
       "      <td>0.706</td>\n",
       "      <td>0.024600</td>\n",
       "      <td>0.0610</td>\n",
       "      <td>0.967</td>\n",
       "      <td>105.592</td>\n",
       "    </tr>\n",
       "    <tr>\n",
       "      <th>4</th>\n",
       "      <td>1rQ0clvgkzWr001POOPJWx</td>\n",
       "      <td>4.0</td>\n",
       "      <td>0.0</td>\n",
       "      <td>P. Susheela</td>\n",
       "      <td>245600.0</td>\n",
       "      <td>0.515</td>\n",
       "      <td>0.765</td>\n",
       "      <td>B</td>\n",
       "      <td>-3.515</td>\n",
       "      <td>minor</td>\n",
       "      <td>0.1240</td>\n",
       "      <td>0.857</td>\n",
       "      <td>0.000872</td>\n",
       "      <td>0.2130</td>\n",
       "      <td>0.906</td>\n",
       "      <td>114.617</td>\n",
       "    </tr>\n",
       "  </tbody>\n",
       "</table>\n",
       "</div>"
      ],
      "text/plain": [
       "                 track_id  time_signature  target            artist  \\\n",
       "0  1dtKN6wwlolkM8XZy2y9C1             3.0     1.0     Garland Green   \n",
       "1  5hjsmSnUefdUqzsDogisiX             4.0     0.0  Serge Gainsbourg   \n",
       "2  6uk8tI6pwxxdVTNlNOJeJh             4.0     0.0       Lord Melody   \n",
       "3  7aNjMJ05FvUXACPWZ7yJmv             4.0     0.0        Celia Cruz   \n",
       "4  1rQ0clvgkzWr001POOPJWx             4.0     0.0       P. Susheela   \n",
       "\n",
       "   duration_ms  danceability  energy      key  loudness   mode  speechiness  \\\n",
       "0     173533.0         0.417   0.620  D# / Eb    -7.727  major       0.0403   \n",
       "1     213613.0         0.498   0.505  D# / Eb   -12.475  major       0.0337   \n",
       "2     223960.0         0.657   0.649        F   -13.392  major       0.0380   \n",
       "3     157907.0         0.590   0.545        G   -12.058  minor       0.1040   \n",
       "4     245600.0         0.515   0.765        B    -3.515  minor       0.1240   \n",
       "\n",
       "   acousticness  instrumentalness  liveness  valence    tempo  \n",
       "0         0.490          0.000000    0.0779    0.845  185.655  \n",
       "1         0.018          0.107000    0.1760    0.797  101.801  \n",
       "2         0.846          0.000004    0.1190    0.908  115.940  \n",
       "3         0.706          0.024600    0.0610    0.967  105.592  \n",
       "4         0.857          0.000872    0.2130    0.906  114.617  "
      ]
     },
     "execution_count": 6,
     "metadata": {},
     "output_type": "execute_result"
    }
   ],
   "source": [
    "data.head()"
   ]
  },
  {
   "cell_type": "code",
   "execution_count": 7,
   "metadata": {},
   "outputs": [
    {
     "name": "stdout",
     "output_type": "stream",
     "text": [
      "[[0.49196787 0.42206478 0.03811378 0.6199046  0.         0.0658215\n",
      "  0.78355379 0.04197917 0.76900295 0.6        0.84839357]\n",
      " [0.01807229 0.50404858 0.04775985 0.50487572 0.107      0.1653144\n",
      "  0.69396381 0.03510417 0.42167068 0.8        0.8002008 ]]\n"
     ]
    }
   ],
   "source": [
    "#Normalize\n",
    "feature_cols=['acousticness', 'danceability', 'duration_ms', 'energy',\n",
    "              'instrumentalness', 'liveness', 'loudness', \n",
    "              'speechiness', 'tempo', 'time_signature', 'valence',]\n",
    "\n",
    "from sklearn.preprocessing import MinMaxScaler\n",
    "scaler = MinMaxScaler()\n",
    "normalized_df =scaler.fit_transform(data[feature_cols])\n",
    "\n",
    "print(normalized_df[:2])"
   ]
  },
  {
   "cell_type": "code",
   "execution_count": 27,
   "metadata": {},
   "outputs": [
    {
     "data": {
      "text/html": [
       "<div>\n",
       "<style scoped>\n",
       "    .dataframe tbody tr th:only-of-type {\n",
       "        vertical-align: middle;\n",
       "    }\n",
       "\n",
       "    .dataframe tbody tr th {\n",
       "        vertical-align: top;\n",
       "    }\n",
       "\n",
       "    .dataframe thead th {\n",
       "        text-align: right;\n",
       "    }\n",
       "</style>\n",
       "<table border=\"1\" class=\"dataframe\">\n",
       "  <thead>\n",
       "    <tr style=\"text-align: right;\">\n",
       "      <th></th>\n",
       "      <th>track_id</th>\n",
       "      <th>time_signature</th>\n",
       "      <th>target</th>\n",
       "      <th>artist</th>\n",
       "      <th>duration_ms</th>\n",
       "      <th>danceability</th>\n",
       "      <th>energy</th>\n",
       "      <th>key</th>\n",
       "      <th>loudness</th>\n",
       "      <th>mode</th>\n",
       "      <th>speechiness</th>\n",
       "      <th>acousticness</th>\n",
       "      <th>instrumentalness</th>\n",
       "      <th>liveness</th>\n",
       "      <th>valence</th>\n",
       "      <th>tempo</th>\n",
       "    </tr>\n",
       "  </thead>\n",
       "  <tbody>\n",
       "    <tr>\n",
       "      <th>0</th>\n",
       "      <td>1dtKN6wwlolkM8XZy2y9C1</td>\n",
       "      <td>3.0</td>\n",
       "      <td>1.0</td>\n",
       "      <td>Garland Green</td>\n",
       "      <td>173533.0</td>\n",
       "      <td>0.417</td>\n",
       "      <td>0.620</td>\n",
       "      <td>D# / Eb</td>\n",
       "      <td>-7.727</td>\n",
       "      <td>major</td>\n",
       "      <td>0.0403</td>\n",
       "      <td>0.4900</td>\n",
       "      <td>0.000000</td>\n",
       "      <td>0.0779</td>\n",
       "      <td>0.8450</td>\n",
       "      <td>185.655</td>\n",
       "    </tr>\n",
       "    <tr>\n",
       "      <th>1</th>\n",
       "      <td>5hjsmSnUefdUqzsDogisiX</td>\n",
       "      <td>4.0</td>\n",
       "      <td>0.0</td>\n",
       "      <td>Serge Gainsbourg</td>\n",
       "      <td>213613.0</td>\n",
       "      <td>0.498</td>\n",
       "      <td>0.505</td>\n",
       "      <td>D# / Eb</td>\n",
       "      <td>-12.475</td>\n",
       "      <td>major</td>\n",
       "      <td>0.0337</td>\n",
       "      <td>0.0180</td>\n",
       "      <td>0.107000</td>\n",
       "      <td>0.1760</td>\n",
       "      <td>0.7970</td>\n",
       "      <td>101.801</td>\n",
       "    </tr>\n",
       "    <tr>\n",
       "      <th>2</th>\n",
       "      <td>6uk8tI6pwxxdVTNlNOJeJh</td>\n",
       "      <td>4.0</td>\n",
       "      <td>0.0</td>\n",
       "      <td>Lord Melody</td>\n",
       "      <td>223960.0</td>\n",
       "      <td>0.657</td>\n",
       "      <td>0.649</td>\n",
       "      <td>F</td>\n",
       "      <td>-13.392</td>\n",
       "      <td>major</td>\n",
       "      <td>0.0380</td>\n",
       "      <td>0.8460</td>\n",
       "      <td>0.000004</td>\n",
       "      <td>0.1190</td>\n",
       "      <td>0.9080</td>\n",
       "      <td>115.940</td>\n",
       "    </tr>\n",
       "    <tr>\n",
       "      <th>3</th>\n",
       "      <td>7aNjMJ05FvUXACPWZ7yJmv</td>\n",
       "      <td>4.0</td>\n",
       "      <td>0.0</td>\n",
       "      <td>Celia Cruz</td>\n",
       "      <td>157907.0</td>\n",
       "      <td>0.590</td>\n",
       "      <td>0.545</td>\n",
       "      <td>G</td>\n",
       "      <td>-12.058</td>\n",
       "      <td>minor</td>\n",
       "      <td>0.1040</td>\n",
       "      <td>0.7060</td>\n",
       "      <td>0.024600</td>\n",
       "      <td>0.0610</td>\n",
       "      <td>0.9670</td>\n",
       "      <td>105.592</td>\n",
       "    </tr>\n",
       "    <tr>\n",
       "      <th>4</th>\n",
       "      <td>1rQ0clvgkzWr001POOPJWx</td>\n",
       "      <td>4.0</td>\n",
       "      <td>0.0</td>\n",
       "      <td>P. Susheela</td>\n",
       "      <td>245600.0</td>\n",
       "      <td>0.515</td>\n",
       "      <td>0.765</td>\n",
       "      <td>B</td>\n",
       "      <td>-3.515</td>\n",
       "      <td>minor</td>\n",
       "      <td>0.1240</td>\n",
       "      <td>0.8570</td>\n",
       "      <td>0.000872</td>\n",
       "      <td>0.2130</td>\n",
       "      <td>0.9060</td>\n",
       "      <td>114.617</td>\n",
       "    </tr>\n",
       "    <tr>\n",
       "      <th>...</th>\n",
       "      <td>...</td>\n",
       "      <td>...</td>\n",
       "      <td>...</td>\n",
       "      <td>...</td>\n",
       "      <td>...</td>\n",
       "      <td>...</td>\n",
       "      <td>...</td>\n",
       "      <td>...</td>\n",
       "      <td>...</td>\n",
       "      <td>...</td>\n",
       "      <td>...</td>\n",
       "      <td>...</td>\n",
       "      <td>...</td>\n",
       "      <td>...</td>\n",
       "      <td>...</td>\n",
       "      <td>...</td>\n",
       "    </tr>\n",
       "    <tr>\n",
       "      <th>40555</th>\n",
       "      <td>4t1TljQWJ6ZuoSY67zVvBI</td>\n",
       "      <td>4.0</td>\n",
       "      <td>0.0</td>\n",
       "      <td>Yolta</td>\n",
       "      <td>150857.0</td>\n",
       "      <td>0.172</td>\n",
       "      <td>0.358</td>\n",
       "      <td>A</td>\n",
       "      <td>-14.430</td>\n",
       "      <td>major</td>\n",
       "      <td>0.0342</td>\n",
       "      <td>0.8860</td>\n",
       "      <td>0.966000</td>\n",
       "      <td>0.3140</td>\n",
       "      <td>0.0361</td>\n",
       "      <td>72.272</td>\n",
       "    </tr>\n",
       "    <tr>\n",
       "      <th>40556</th>\n",
       "      <td>2MShy1GSSgbmGUxADNIao5</td>\n",
       "      <td>4.0</td>\n",
       "      <td>1.0</td>\n",
       "      <td>Kodak Black</td>\n",
       "      <td>152000.0</td>\n",
       "      <td>0.910</td>\n",
       "      <td>0.366</td>\n",
       "      <td>C# / Db</td>\n",
       "      <td>-9.954</td>\n",
       "      <td>major</td>\n",
       "      <td>0.0941</td>\n",
       "      <td>0.0996</td>\n",
       "      <td>0.000000</td>\n",
       "      <td>0.2610</td>\n",
       "      <td>0.7400</td>\n",
       "      <td>119.985</td>\n",
       "    </tr>\n",
       "    <tr>\n",
       "      <th>40557</th>\n",
       "      <td>55qBw1900pZKfXJ6Q9A2Lc</td>\n",
       "      <td>4.0</td>\n",
       "      <td>1.0</td>\n",
       "      <td>Katy Perry</td>\n",
       "      <td>227760.0</td>\n",
       "      <td>0.719</td>\n",
       "      <td>0.804</td>\n",
       "      <td>A# / Bb</td>\n",
       "      <td>-4.581</td>\n",
       "      <td>major</td>\n",
       "      <td>0.0355</td>\n",
       "      <td>0.0132</td>\n",
       "      <td>0.000003</td>\n",
       "      <td>0.1390</td>\n",
       "      <td>0.6050</td>\n",
       "      <td>119.999</td>\n",
       "    </tr>\n",
       "    <tr>\n",
       "      <th>40558</th>\n",
       "      <td>4o9npmYHrOF1rUxxTVH8h4</td>\n",
       "      <td>4.0</td>\n",
       "      <td>0.0</td>\n",
       "      <td>Oscar Peterson</td>\n",
       "      <td>213387.0</td>\n",
       "      <td>0.600</td>\n",
       "      <td>0.177</td>\n",
       "      <td>G</td>\n",
       "      <td>-16.070</td>\n",
       "      <td>major</td>\n",
       "      <td>0.0561</td>\n",
       "      <td>0.9890</td>\n",
       "      <td>0.868000</td>\n",
       "      <td>0.1490</td>\n",
       "      <td>0.5600</td>\n",
       "      <td>120.030</td>\n",
       "    </tr>\n",
       "    <tr>\n",
       "      <th>40559</th>\n",
       "      <td>2khIaVUkbMmDHB596lyMG3</td>\n",
       "      <td>4.0</td>\n",
       "      <td>0.0</td>\n",
       "      <td>Hans Zimmer</td>\n",
       "      <td>341396.0</td>\n",
       "      <td>0.121</td>\n",
       "      <td>0.123</td>\n",
       "      <td>E</td>\n",
       "      <td>-23.025</td>\n",
       "      <td>minor</td>\n",
       "      <td>0.0443</td>\n",
       "      <td>0.9640</td>\n",
       "      <td>0.696000</td>\n",
       "      <td>0.1030</td>\n",
       "      <td>0.0297</td>\n",
       "      <td>95.182</td>\n",
       "    </tr>\n",
       "  </tbody>\n",
       "</table>\n",
       "<p>40560 rows × 16 columns</p>\n",
       "</div>"
      ],
      "text/plain": [
       "                     track_id  time_signature  target            artist  \\\n",
       "0      1dtKN6wwlolkM8XZy2y9C1             3.0     1.0     Garland Green   \n",
       "1      5hjsmSnUefdUqzsDogisiX             4.0     0.0  Serge Gainsbourg   \n",
       "2      6uk8tI6pwxxdVTNlNOJeJh             4.0     0.0       Lord Melody   \n",
       "3      7aNjMJ05FvUXACPWZ7yJmv             4.0     0.0        Celia Cruz   \n",
       "4      1rQ0clvgkzWr001POOPJWx             4.0     0.0       P. Susheela   \n",
       "...                       ...             ...     ...               ...   \n",
       "40555  4t1TljQWJ6ZuoSY67zVvBI             4.0     0.0             Yolta   \n",
       "40556  2MShy1GSSgbmGUxADNIao5             4.0     1.0       Kodak Black   \n",
       "40557  55qBw1900pZKfXJ6Q9A2Lc             4.0     1.0        Katy Perry   \n",
       "40558  4o9npmYHrOF1rUxxTVH8h4             4.0     0.0    Oscar Peterson   \n",
       "40559  2khIaVUkbMmDHB596lyMG3             4.0     0.0       Hans Zimmer   \n",
       "\n",
       "       duration_ms  danceability  energy      key  loudness   mode  \\\n",
       "0         173533.0         0.417   0.620  D# / Eb    -7.727  major   \n",
       "1         213613.0         0.498   0.505  D# / Eb   -12.475  major   \n",
       "2         223960.0         0.657   0.649        F   -13.392  major   \n",
       "3         157907.0         0.590   0.545        G   -12.058  minor   \n",
       "4         245600.0         0.515   0.765        B    -3.515  minor   \n",
       "...            ...           ...     ...      ...       ...    ...   \n",
       "40555     150857.0         0.172   0.358        A   -14.430  major   \n",
       "40556     152000.0         0.910   0.366  C# / Db    -9.954  major   \n",
       "40557     227760.0         0.719   0.804  A# / Bb    -4.581  major   \n",
       "40558     213387.0         0.600   0.177        G   -16.070  major   \n",
       "40559     341396.0         0.121   0.123        E   -23.025  minor   \n",
       "\n",
       "       speechiness  acousticness  instrumentalness  liveness  valence    tempo  \n",
       "0           0.0403        0.4900          0.000000    0.0779   0.8450  185.655  \n",
       "1           0.0337        0.0180          0.107000    0.1760   0.7970  101.801  \n",
       "2           0.0380        0.8460          0.000004    0.1190   0.9080  115.940  \n",
       "3           0.1040        0.7060          0.024600    0.0610   0.9670  105.592  \n",
       "4           0.1240        0.8570          0.000872    0.2130   0.9060  114.617  \n",
       "...            ...           ...               ...       ...      ...      ...  \n",
       "40555       0.0342        0.8860          0.966000    0.3140   0.0361   72.272  \n",
       "40556       0.0941        0.0996          0.000000    0.2610   0.7400  119.985  \n",
       "40557       0.0355        0.0132          0.000003    0.1390   0.6050  119.999  \n",
       "40558       0.0561        0.9890          0.868000    0.1490   0.5600  120.030  \n",
       "40559       0.0443        0.9640          0.696000    0.1030   0.0297   95.182  \n",
       "\n",
       "[40560 rows x 16 columns]"
      ]
     },
     "execution_count": 27,
     "metadata": {},
     "output_type": "execute_result"
    }
   ],
   "source": [
    "data"
   ]
  },
  {
   "attachments": {},
   "cell_type": "markdown",
   "metadata": {},
   "source": [
    "## 2. Get the recommended songs"
   ]
  },
  {
   "cell_type": "code",
   "execution_count": 9,
   "metadata": {},
   "outputs": [],
   "source": [
    "# extract 10 recommended Songs\n",
    "indices = pd.Series(data.index, index=data['track_id']).drop_duplicates()\n",
    "# Create cosine similarity matrix based on given matrix\n",
    "cosine = cosine_similarity(normalized_df)\n",
    "def generate_recommendation(track_id, model_type=cosine):\n",
    "    \"\"\"\n",
    "    Purpose: Function for song recommendations \n",
    "    Inputs: track_id and type of similarity model\n",
    "    Output: Pandas series of recommended songs\n",
    "    \"\"\"\n",
    "    # Get song indices\n",
    "    index = indices[track_id]\n",
    "    # Get list of songs for given track_id\n",
    "    score = list(enumerate(model_type[index]))\n",
    "    # Sort the most similar songs\n",
    "    similarity_score = sorted(score, key=lambda x: x[1], reverse=True)\n",
    "    # Select the top-10 recommended songs\n",
    "    similarity_score = similarity_score[1:11]\n",
    "    top_songs_index = [i[0] for i in similarity_score]\n",
    "    # Top 10 recommended songs\n",
    "    top_songs = data['track_id'].iloc[top_songs_index]\n",
    "    return top_songs\n"
   ]
  },
  {
   "cell_type": "code",
   "execution_count": 10,
   "metadata": {},
   "outputs": [],
   "source": [
    "#extract 3 recommended Songs\n",
    "def generate_recommendation(track_id, model_type=cosine):\n",
    "    index = indices[track_id]\n",
    "    score = list(enumerate(model_type[index]))\n",
    "    similarity_score = sorted(score, key=lambda x: x[1], reverse=True)\n",
    "    similarity_score = similarity_score[1:4]  # Modify to select top 3 recommended songs\n",
    "    top_songs_index = [i[0] for i in similarity_score]\n",
    "    top_songs = data['track_id'].iloc[top_songs_index]\n",
    "    return top_songs"
   ]
  },
  {
   "cell_type": "code",
   "execution_count": 11,
   "metadata": {},
   "outputs": [],
   "source": [
    "#print(indices.keys())"
   ]
  },
  {
   "cell_type": "code",
   "execution_count": 12,
   "metadata": {},
   "outputs": [
    {
     "name": "stdout",
     "output_type": "stream",
     "text": [
      "Recommended Songs:\n",
      "['1A4eGVWeU3TUd1MxNdxU65' '5Abd8qlHxfliMmkggUCiSY'\n",
      " '41TqRBgF4Ahyr4vGmZVk8b']\n"
     ]
    }
   ],
   "source": [
    "print(\"Recommended Songs:\")\n",
    "recommended_songs = generate_recommendation('5hjsmSnUefdUqzsDogisiX',cosine).values\n",
    "print (recommended_songs)"
   ]
  },
  {
   "cell_type": "code",
   "execution_count": 13,
   "metadata": {},
   "outputs": [
    {
     "data": {
      "text/plain": [
       "1428     0clxQCtD1kPfKD1I50t0P4\n",
       "35846    5EdYF3AG4xOETuvBHukWZn\n",
       "33766    2TevseTZBCDGTeusyhQXau\n",
       "Name: track_id, dtype: object"
      ]
     },
     "execution_count": 13,
     "metadata": {},
     "output_type": "execute_result"
    }
   ],
   "source": [
    "\n",
    "songs = generate_recommendation (\"4t1TljQWJ6ZuoSY67zVvBI\")\n",
    "songs"
   ]
  },
  {
   "attachments": {},
   "cell_type": "markdown",
   "metadata": {},
   "source": [
    "# 3. Convert the track_ids to track_names"
   ]
  },
  {
   "cell_type": "code",
   "execution_count": 14,
   "metadata": {},
   "outputs": [],
   "source": [
    "# the track id could be in df or tt\n",
    "df = pd.read_csv('Spotify Data/data-clean.csv')\n",
    "tt =  pd.read_csv('tiktok.csv')"
   ]
  },
  {
   "cell_type": "code",
   "execution_count": 15,
   "metadata": {},
   "outputs": [
    {
     "data": {
      "text/plain": [
       "array(['1A4eGVWeU3TUd1MxNdxU65', '5Abd8qlHxfliMmkggUCiSY',\n",
       "       '41TqRBgF4Ahyr4vGmZVk8b'], dtype=object)"
      ]
     },
     "execution_count": 15,
     "metadata": {},
     "output_type": "execute_result"
    }
   ],
   "source": [
    "recommended_songs"
   ]
  },
  {
   "cell_type": "code",
   "execution_count": 16,
   "metadata": {},
   "outputs": [],
   "source": [
    "def find_track_name(dataframe, track_ids):\n",
    "    track_names = []\n",
    "    for track_id in track_ids:\n",
    "        row = dataframe[dataframe['track_id'] == track_id]\n",
    "        if not row.empty:\n",
    "            track_names.append(row['track'].values[0])\n",
    "        else:\n",
    "            track_names.append(None)\n",
    "    return track_names"
   ]
  },
  {
   "cell_type": "code",
   "execution_count": 17,
   "metadata": {},
   "outputs": [
    {
     "data": {
      "text/plain": [
       "['You Got Me Hummin', 'What About Love', 'In-A-Gadda-Da-Vida']"
      ]
     },
     "execution_count": 17,
     "metadata": {},
     "output_type": "execute_result"
    }
   ],
   "source": [
    "find_track_name(df, recommended_songs)"
   ]
  },
  {
   "cell_type": "code",
   "execution_count": 18,
   "metadata": {},
   "outputs": [
    {
     "data": {
      "text/plain": [
       "[None, None, None]"
      ]
     },
     "execution_count": 18,
     "metadata": {},
     "output_type": "execute_result"
    }
   ],
   "source": [
    "find_track_name(tt, recommended_songs)"
   ]
  },
  {
   "attachments": {},
   "cell_type": "markdown",
   "metadata": {},
   "source": [
    "## 4. Final method to run code"
   ]
  },
  {
   "cell_type": "code",
   "execution_count": 20,
   "metadata": {},
   "outputs": [
    {
     "data": {
      "text/plain": [
       "[\"You're Moving Out Today\", 'Mango Mangüe', 'Soy Tan Feliz']"
      ]
     },
     "execution_count": 20,
     "metadata": {},
     "output_type": "execute_result"
    }
   ],
   "source": [
    "#MOST IMPORTANT CODE\n",
    "def get_similar_songs (track_id):\n",
    "    lalala = generate_recommendation (track_id)\n",
    "    finale = find_track_name(df, lalala)\n",
    "    return finale\n",
    "\n",
    "tup = get_similar_songs(\"7aNjMJ05FvUXACPWZ7yJmv\")\n",
    "tup"
   ]
  }
 ],
 "metadata": {
  "kernelspec": {
   "display_name": "base",
   "language": "python",
   "name": "python3"
  },
  "language_info": {
   "codemirror_mode": {
    "name": "ipython",
    "version": 3
   },
   "file_extension": ".py",
   "mimetype": "text/x-python",
   "name": "python",
   "nbconvert_exporter": "python",
   "pygments_lexer": "ipython3",
   "version": "3.9.13"
  },
  "orig_nbformat": 4
 },
 "nbformat": 4,
 "nbformat_minor": 2
}
