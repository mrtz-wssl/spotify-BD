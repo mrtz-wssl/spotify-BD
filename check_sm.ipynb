{
 "cells": [
  {
   "cell_type": "code",
   "execution_count": 63,
   "metadata": {},
   "outputs": [],
   "source": [
    "import pandas as pd\n",
    "import numpy as np\n",
    "import matplotlib.pyplot as plt\n",
    "import seaborn as sns\n",
    "import pickle"
   ]
  },
  {
   "cell_type": "code",
   "execution_count": 64,
   "metadata": {},
   "outputs": [
    {
     "name": "stderr",
     "output_type": "stream",
     "text": [
      "/Users/audrey/opt/anaconda3/lib/python3.9/site-packages/sklearn/base.py:329: UserWarning: Trying to unpickle estimator DecisionTreeClassifier from version 1.2.2 when using version 1.0.2. This might lead to breaking code or invalid results. Use at your own risk. For more info please refer to:\n",
      "https://scikit-learn.org/stable/modules/model_persistence.html#security-maintainability-limitations\n",
      "  warnings.warn(\n",
      "/Users/audrey/opt/anaconda3/lib/python3.9/site-packages/sklearn/base.py:329: UserWarning: Trying to unpickle estimator RandomForestClassifier from version 1.2.2 when using version 1.0.2. This might lead to breaking code or invalid results. Use at your own risk. For more info please refer to:\n",
      "https://scikit-learn.org/stable/modules/model_persistence.html#security-maintainability-limitations\n",
      "  warnings.warn(\n"
     ]
    }
   ],
   "source": [
    "with open('randomforest_model.pkl', 'rb') as file:\n",
    "    model = pickle.load(file)"
   ]
  },
  {
   "cell_type": "code",
   "execution_count": 65,
   "metadata": {},
   "outputs": [
    {
     "name": "stdout",
     "output_type": "stream",
     "text": [
      "<class 'pandas.core.frame.DataFrame'>\n",
      "RangeIndex: 43808 entries, 0 to 43807\n",
      "Data columns (total 42 columns):\n",
      " #   Column                                        Non-Null Count  Dtype  \n",
      "---  ------                                        --------------  -----  \n",
      " 0   sm_target                                     43808 non-null  float64\n",
      " 1   duration_ms                                   43808 non-null  float64\n",
      " 2   danceability                                  43808 non-null  float64\n",
      " 3   energy                                        43808 non-null  float64\n",
      " 4   loudness                                      43808 non-null  float64\n",
      " 5   speechiness                                   43808 non-null  float64\n",
      " 6   acousticness                                  43808 non-null  float64\n",
      " 7   instrumentalness                              43808 non-null  float64\n",
      " 8   liveness                                      43808 non-null  float64\n",
      " 9   valence                                       43808 non-null  float64\n",
      " 10  tempo                                         43808 non-null  float64\n",
      " 11  key_A                                         43808 non-null  uint8  \n",
      " 12  key_A# / Bb                                   43808 non-null  uint8  \n",
      " 13  key_B                                         43808 non-null  uint8  \n",
      " 14  key_C                                         43808 non-null  uint8  \n",
      " 15  key_C# / Db                                   43808 non-null  uint8  \n",
      " 16  key_D                                         43808 non-null  uint8  \n",
      " 17  key_D# / Eb                                   43808 non-null  uint8  \n",
      " 18  key_E                                         43808 non-null  uint8  \n",
      " 19  key_F                                         43808 non-null  uint8  \n",
      " 20  key_F# / Gb                                   43808 non-null  uint8  \n",
      " 21  key_G                                         43808 non-null  uint8  \n",
      " 22  key_G# / Ab                                   43808 non-null  uint8  \n",
      " 23  mode_major                                    43808 non-null  uint8  \n",
      " 24  mode_minor                                    43808 non-null  uint8  \n",
      " 25  era_00s                                       43808 non-null  uint8  \n",
      " 26  era_10s                                       43808 non-null  uint8  \n",
      " 27  era_20s                                       43808 non-null  uint8  \n",
      " 28  era_60s                                       43808 non-null  uint8  \n",
      " 29  era_70s                                       43808 non-null  uint8  \n",
      " 30  era_80s                                       43808 non-null  uint8  \n",
      " 31  era_90s                                       43808 non-null  uint8  \n",
      " 32  main_parent_genre_Blues and Jazz              43808 non-null  uint8  \n",
      " 33  main_parent_genre_Classical and Opera         43808 non-null  uint8  \n",
      " 34  main_parent_genre_Country and Folk            43808 non-null  uint8  \n",
      " 35  main_parent_genre_Electronic Music and Dance  43808 non-null  uint8  \n",
      " 36  main_parent_genre_Other                       43808 non-null  uint8  \n",
      " 37  main_parent_genre_Pop                         43808 non-null  uint8  \n",
      " 38  main_parent_genre_Rap and Hip Hop             43808 non-null  uint8  \n",
      " 39  main_parent_genre_Reggae and Ska              43808 non-null  uint8  \n",
      " 40  main_parent_genre_Rock                        43808 non-null  uint8  \n",
      " 41  main_parent_genre_World Music                 43808 non-null  uint8  \n",
      "dtypes: float64(11), uint8(31)\n",
      "memory usage: 5.0 MB\n"
     ]
    }
   ],
   "source": [
    "# Read TikTok Data\n",
    "df = pd.read_csv('TikTokSpotifyMerged.csv')\n",
    "df = df.drop([\"target\", \"popularity\", \"target\", \"sections\", \"chorus_hit\", \"time_signature\" ], axis=1)\n",
    "df = df.drop(['tiktok', 'artist', 'spotify', \"track\"], axis=1)\n",
    "data_with_track_id = df\n",
    "df = df.drop(['track_id'], axis=1)\n",
    "df = pd.get_dummies(df)\n",
    "df.info()\n"
   ]
  },
  {
   "cell_type": "code",
   "execution_count": 66,
   "metadata": {},
   "outputs": [
    {
     "name": "stdout",
     "output_type": "stream",
     "text": [
      "11806    0ofHAoxe9vBkTCp2UQIavz\n",
      "12726    0YveezON7jpiaHA8fnUHxN\n",
      "13964    7GVUmCP00eSsqc4tzj1sDD\n",
      "16834    1ko2lVN0vKGUl9zrU0qSlT\n",
      "18914    57JVGBtBLCfHw2muk5416J\n",
      "                  ...          \n",
      "43803    4uqh9bualXNHXXwO2wPorc\n",
      "43804    03f7xZmt2wHCIDJBFPK8G4\n",
      "43805    4kIpBfvK44bxqX7zo8K1oP\n",
      "43806    1lNHWPDvKEbamKezpLq7HW\n",
      "43807    7gd01LMH2gBcoDngSt8sq9\n",
      "Name: track_id, Length: 2821, dtype: object\n"
     ]
    }
   ],
   "source": [
    "# Filter the DataFrame to get the track IDs where 'nice' feature is 1\n",
    "track_ids = data_with_track_id.loc[df['sm_target'] == 1, 'track_id']\n",
    "\n",
    "# Print the track IDs\n",
    "print(track_ids)"
   ]
  },
  {
   "cell_type": "code",
   "execution_count": 82,
   "metadata": {},
   "outputs": [
    {
     "name": "stderr",
     "output_type": "stream",
     "text": [
      "/Users/audrey/opt/anaconda3/lib/python3.9/site-packages/sklearn/base.py:443: UserWarning: X has feature names, but RandomForestClassifier was fitted without feature names\n",
      "  warnings.warn(\n"
     ]
    },
    {
     "name": "stdout",
     "output_type": "stream",
     "text": [
      "[0. 0. 0. ... 0. 0. 0.]\n",
      "values of 1: []\n"
     ]
    }
   ],
   "source": [
    "# Extract the first observation as a DataFrame\n",
    "song = df.iloc[0:43807]\n",
    "\n",
    "song = song.drop([\"sm_target\"], axis=1)\n",
    "\n",
    "# Print the extracted observation DataFrame\n",
    "song\n",
    "\n",
    "# Predict the labels for the test set\n",
    "from sklearn.metrics import accuracy_score, confusion_matrix, classification_report\n",
    "\n",
    "y_pred = model.predict(song)\n",
    "print(str(y_pred))\n",
    "\n",
    "values_of_one = y_pred[y_pred == 1]\n",
    "print (\"values of 1: \" + str(values_of_one))\n",
    "\n"
   ]
  }
 ],
 "metadata": {
  "kernelspec": {
   "display_name": "base",
   "language": "python",
   "name": "python3"
  },
  "language_info": {
   "codemirror_mode": {
    "name": "ipython",
    "version": 3
   },
   "file_extension": ".py",
   "mimetype": "text/x-python",
   "name": "python",
   "nbconvert_exporter": "python",
   "pygments_lexer": "ipython3",
   "version": "3.9.13"
  },
  "orig_nbformat": 4
 },
 "nbformat": 4,
 "nbformat_minor": 2
}
